{
 "cells": [
  {
   "cell_type": "code",
   "execution_count": 1,
   "id": "6ffdc696",
   "metadata": {},
   "outputs": [
    {
     "data": {
      "text/markdown": [
       "This notebook has been executed using the docker image `colomoto/colomoto-docker:2023-06-01`"
      ],
      "text/plain": [
       "<IPython.core.display.Markdown object>"
      ]
     },
     "metadata": {},
     "output_type": "display_data"
    }
   ],
   "source": [
    "import ginsim\n",
    "import biolqm\n",
    "\n",
    "import numpy as np\n",
    "import pandas as pd\n",
    "import seaborn as sns\n",
    "import matplotlib.pyplot as plt"
   ]
  },
  {
   "cell_type": "markdown",
   "id": "06440476",
   "metadata": {},
   "source": [
    "# MACROPHAGE POLARIZATION LOGICAL MODELLING"
   ]
  },
  {
   "cell_type": "markdown",
   "id": "80ccf34a",
   "metadata": {},
   "source": [
    "This notebook represents a workflow of analyzing a Macrophage Polarization (MacPol) model that was extended from the efforts of Viviam Solangeli Bermúdez Paiva and Marco Fariñas. In this model, given the name MacPol 2.0, growth factors have been included; both as inputs and as outputs. This was to especially investigate the effects growth factors as stimulants might have on macrophage polarization. \n",
    "\n",
    "#### Section about what macrophages are\n",
    "\n",
    "#### Section about the model in general\n",
    "\n",
    "#### The aim of the notebook\n",
    "The main aim of the notebook is to compute stable states of the model with different growth factor stimuli. Stable states were identified for both M1 and M2 macrophages using LPS + IFNg and IL-4 + IL-13, respectively. To achieve this, bioLQM was used.\n"
   ]
  },
  {
   "cell_type": "markdown",
   "id": "58963a79",
   "metadata": {},
   "source": [
    "## Loading and visualizing the network"
   ]
  },
  {
   "cell_type": "code",
   "execution_count": null,
   "id": "2ba9d955",
   "metadata": {
    "scrolled": true
   },
   "outputs": [],
   "source": [
    "MacPol = ginsim.load(\"MacPol Extended model.zginml\")\n",
    "# ginsim.show(gs_model) --> This command does not show all colors from the original GINsim Model, therefore an image is shown instead."
   ]
  },
  {
   "cell_type": "markdown",
   "id": "c8106d92",
   "metadata": {},
   "source": [
    "<img src=\"http://127.0.0.1:8888/files/notebooks/Master-thesis/MacPol-Extended.jpeg\" />\n"
   ]
  },
  {
   "cell_type": "markdown",
   "id": "6c463239",
   "metadata": {},
   "source": [
    "**Figure 1: Extended Macrophage Polarization (MacPol 2.0) model.**\n",
    "<br>Nodes represent proteins, transcription factors, genes, or ions. Relationships between nodes are represented as edges, where green arrows represent activation, and red blunted arrows represent inhibition of the target node. Orange nodes: external stimuli and receptors. Turqoise nodes: Novel nodes of the extended model, that was not present in the model created by Bermúdez. Red nodes: entities related to the M1 phenotype. Blue nodes: entities related to the M2 phenotype. Purple nodes: entities related to both phenotypes. Yellow nodes: entities related to the lipid metabolism mediated by cytosolic enzyme phospholipase A2 (cPLA2).\n",
    "Furthermore, the middle nodes in general represent intracellular signaling molecules and transcription factors, while the bottom nodes are molecules secreted or expressed (cytokines, chemokines, and membrane markers)."
   ]
  },
  {
   "cell_type": "markdown",
   "id": "51425e60",
   "metadata": {},
   "source": [
    "Converting the model to biolqm and pint compliant models:"
   ]
  },
  {
   "cell_type": "code",
   "execution_count": null,
   "id": "7e039a27",
   "metadata": {},
   "outputs": [],
   "source": [
    "lqm_model = ginsim.to_biolqm(MacPol)\n",
    "pint_model = biolqm.to_pint(lqm_model)"
   ]
  },
  {
   "cell_type": "markdown",
   "id": "a9c336c5",
   "metadata": {},
   "source": [
    "Obtaining a summary of the general model properties:"
   ]
  },
  {
   "cell_type": "code",
   "execution_count": null,
   "id": "73b87e2b",
   "metadata": {},
   "outputs": [],
   "source": [
    "pint_model.summary()"
   ]
  },
  {
   "cell_type": "markdown",
   "id": "96741301",
   "metadata": {},
   "source": [
    "nb_automata signifies the number of nodes,\n",
    "nb_local_states is the sum of the number of local states in each automaton,\n",
    "max_local_states gives the number of local states of the largest automaton,\n",
    "nb_transitions is the number of defined local transitions,\n",
    "and nb_states is the total number of global states (corresponds to 2<sup>84</sup> in this case)."
   ]
  },
  {
   "cell_type": "markdown",
   "id": "349af05d",
   "metadata": {},
   "source": [
    "## Node - Phenotype associations"
   ]
  },
  {
   "cell_type": "markdown",
   "id": "0278158a",
   "metadata": {},
   "source": [
    "Represented below are the nodes with the corresponding phenotype listed. In total, the model contains 18 nodes associated with the M1 phenotype, 22 nodes associated with the M2 phenotype and 11 nodes associated with both phenotypes. In addition, 4 nodes are associated with the lipid metabolism, here noted as \"LM\"."
   ]
  },
  {
   "cell_type": "code",
   "execution_count": null,
   "id": "4c6e8809",
   "metadata": {},
   "outputs": [],
   "source": [
    "M1 = {\"Node\": ['IRF3','TBK1','STAT5','IRF5','STAT1','IFNa','IFNb','TNFa','RelA','NFkB','IL1b','IL1a','CCL2','iNOS','CCL4','CD80','IL12','CCR7','IL8','TRAF2','TAK1K63','MyD88','TRIF','Pell1'], \n",
    "                 \"Phenotype\": ['M1','M1','M1','M1','M1','M1','M1','M1','M1','M1','M1','M1','M1','M1','M1','M1','M1','M1','M1','M1','M1','M1','M1','M1']}\n",
    "M1_df = pd.DataFrame(data=M1)\n",
    "\n",
    "M1_M2 = {\"Node\": ['TRAF6','JNK','p38','SOCS3','MNK1','AP1','IL6','IL1Ra','SNAIL', 'PI3K'],\n",
    "         \"Phenotype\": ['M1 & M2','M1 & M2','M1 & M2','M1 & M2','M1 & M2','M1 & M2','M1 & M2','M1 & M2', 'M1 & M2','M1 & M2']}\n",
    "M1_M2_df = pd.DataFrame(data=M1_M2)\n",
    "\n",
    "M2 = {\"Node\": ['ERK','PPARG','STAT6','JMJD3','STAT3','SOCS1','IRF4','KLF4','Arg1','CCL17','CCL18','CCL22','cMaf','IL10','CD206','CD200R','CD163','TGFb', 'PDL1', 'HGF', 'IGF1', 'VEGF','SMADhtc','SMAD7','SMAD6','TAK1K158'],\n",
    "     \"Phenotype\":['M2','M2','M2','M2','M2','M2','M2','M2','M2','M2','M2','M2','M2','M2','M2','M2','M2','M2','M2','M2','M2','M2','M2','M2','M2','M2']}\n",
    "M2_df = pd.DataFrame(data=M2)\n",
    "\n",
    "LM = {\"Node\": ['Ca2', 'cPLA2a', 'PGE2', 'COX2'],\n",
    "     \"Phenotype\":['LM', 'LM', 'LM', 'LM']}\n",
    "LM_df = pd.DataFrame(data=LM)\n",
    "\n",
    "Node_phenotype = pd.concat([M1_df, M1_M2_df, M2_df, LM_df])\n",
    "\n",
    "print(\"Table 1. Relationship between the specific macrophage secretions and their associated phenotype. LM = Lipid metabolism.\")\n",
    "df_phen = pd.DataFrame(data=Node_phenotype)\n",
    "df_phen.style.hide(axis='index')"
   ]
  },
  {
   "cell_type": "markdown",
   "id": "847c553d",
   "metadata": {},
   "source": [
    "## Identification of stable states using bioLQM"
   ]
  },
  {
   "cell_type": "markdown",
   "id": "500f8f02",
   "metadata": {},
   "source": [
    "The original MacPol model developed by Viviam Bérmudez Paiva, has here been extended to include intracellular and extracellular effects of growth factors. This is due to the wish of identifying the stable states for when growth factors are present in the extracellular environment, along with stimuli for polarizing the macrophages into a phenotype, identical to what was performed in the THP-1 experiments."
   ]
  },
  {
   "cell_type": "code",
   "execution_count": null,
   "id": "4e228776",
   "metadata": {},
   "outputs": [],
   "source": [
    "# Computing all stable states\n",
    "fixpoints = biolqm.fixpoints(lqm_model)\n",
    "print(\"Table 2. All possible stable states.\")\n",
    "fix_df = pd.DataFrame(fixpoints)\n",
    "fix_df"
   ]
  },
  {
   "cell_type": "markdown",
   "id": "f7059cce",
   "metadata": {},
   "source": [
    "When computing the stable states using bioLQM, as shown above in Table 1, a total of 33700 stable states is obtained. This is without defining any initial input states. As shown in the model, there are a total of XX inputs (ligands), and thus it is expected to obtain a total of 2<sup>XX</sup> = XX stable states. An excess amount of stable states signifies the presence of multistability for some input conditions, i.e. the system is able to achieve multiple stable states under the same external conditions."
   ]
  },
  {
   "cell_type": "markdown",
   "id": "752e7f8c",
   "metadata": {},
   "source": [
    "### COMPARISON OF METHODS FOR CREATING INITIAL CONDITIONS AND OBTAINING STABLE STATES"
   ]
  },
  {
   "cell_type": "markdown",
   "id": "8cf7f847",
   "metadata": {},
   "source": [
    "When comparing this notebook to that of Viviam, it was identified that we used different methods for defining stable states. This difference had to be investigated to check if the resulting dataframes are identical or not. "
   ]
  },
  {
   "cell_type": "code",
   "execution_count": null,
   "id": "76f11bc6",
   "metadata": {},
   "outputs": [],
   "source": [
    "# Viviam's method:\n",
    "condition = biolqm.perturbation(lqm_model, \"IFNg%1 LPS%1 VEGF_e%0 PlGF%0 GMCSF%0 IL6_e%0 IL1b_e%0 IC%0 PGE2_e%0 IL4%0 IL13%0 IL10_e%0 HGF_e%0 TGFb_e%0 IGF1_e%0\")\n",
    "fps_condition = biolqm.fixpoints(condition, \"-u asynchronous\")\n",
    "condition_df = pd.DataFrame(fps_condition)\n",
    "condition_df"
   ]
  },
  {
   "cell_type": "code",
   "execution_count": null,
   "id": "6289fab1",
   "metadata": {},
   "outputs": [],
   "source": [
    "# My chosen method:\n",
    "inpM1 = ('IFNg == 1 & LPS == 1 & VEGF_e == 0 & PlGF == 0 & GMCSF == 0 & IL6_e == 0 & IL1b_e == 0 & IC == 0 & PGE2_e == 0 & IL4 == 0 & IL13 == 0 & IL10_e == 0 & HGF_e == 0 & TGFb_e == 0 & IGF1_e == 0')\n",
    "filtered_fixpoints = fix_df.query(inpM1)\n",
    "filtered_fixpoints\n"
   ]
  },
  {
   "cell_type": "markdown",
   "id": "ac80363a",
   "metadata": {},
   "source": [
    "As can be seen, the two methods yield the same results, except the row labels differ.The row label from my method is coming from the index in fix_df, whereas for Viviam's method, the number will be either 0 or 1 due to creating one data frame per condition. Hence, the conclusion is that I can continue with my method of choice. "
   ]
  },
  {
   "cell_type": "markdown",
   "id": "08e9ac30",
   "metadata": {},
   "source": [
    "### Creating initial conditions and computing the corresponding stable states"
   ]
  },
  {
   "cell_type": "markdown",
   "id": "622af0f9",
   "metadata": {},
   "source": [
    "To compute the reachable stable states with different stimuli, initial state conditions must first be defined. M0 has been included, in addition to M1 and M2 because it establishes a baseline which can be used for comparison.Additionally, it offers a more nuanced and complete picture of how growth factors influence macrophage polarization across the spectrum of phenotypes."
   ]
  },
  {
   "cell_type": "code",
   "execution_count": null,
   "id": "3353eab3",
   "metadata": {},
   "outputs": [],
   "source": [
    "# Creating initial state conditions:\n",
    "inpM0 = ('IFNg == 0 & LPS == 0 & VEGF_e == 0 & PlGF == 0 & GMCSF == 0 & IL6_e == 0 & IL1b_e == 0 & IC == 0 & PGE2_e == 0 & IL4 == 0 & IL13 == 0 & IL10_e == 0 & HGF_e == 0 & TGFb_e == 0 & IGF1_e == 0')\n",
    "inpM0_HGF = ('IFNg == 0 & LPS == 0 & VEGF_e == 0 & PlGF == 0 & GMCSF == 0 & IL6_e == 0 & IL1b_e == 0 & IC == 0 & PGE2_e == 0 & IL4 == 0 & IL13 == 0 & IL10_e == 0 & HGF_e == 1 & TGFb_e == 0 & IGF1_e == 0')\n",
    "inpM0_VEGF = ('IFNg == 0 & LPS == 0 & VEGF_e == 1 & PlGF == 0 & GMCSF == 0 & IL6_e == 0 & IL1b_e == 0 & IC == 0 & PGE2_e == 0 & IL4 == 0 & IL13 == 0 & IL10_e == 0 & HGF_e == 0 & TGFb_e == 0 & IGF1_e == 0')\n",
    "inpM0_PlGF = ('IFNg == 0 & LPS == 0 & VEGF_e == 0 & PlGF == 1 & GMCSF == 0 & IL6_e == 0 & IL1b_e == 0 & IC == 0 & PGE2_e == 0 & IL4 == 0 & IL13 == 0 & IL10_e == 0 & HGF_e == 0 & TGFb_e == 0 & IGF1_e == 0')\n",
    "inpM0_TGFb = ('IFNg == 0 & LPS == 0 & VEGF_e == 0 & PlGF == 0 & GMCSF == 0 & IL6_e == 0 & IL1b_e == 0 & IC == 0 & PGE2_e == 0 & IL4 == 0 & IL13 == 0 & IL10_e == 0 & HGF_e == 0 & TGFb_e == 1 & IGF1_e == 0')\n",
    "inpM0_IGF1 = ('IFNg == 0 & LPS == 0 & VEGF_e == 0 & PlGF == 0 & GMCSF == 0 & IL6_e == 0 & IL1b_e == 0 & IC == 0 & PGE2_e == 0 & IL4 == 0 & IL13 == 0 & IL10_e == 0 & HGF_e == 0 & TGFb_e == 0 & IGF1_e == 1')\n",
    "\n",
    "inpM1 = ('IFNg == 1 & LPS == 1 & VEGF_e == 0 & PlGF == 0 & GMCSF == 0 & IL6_e == 0 & IL1b_e == 0 & IC == 0 & PGE2_e == 0 & IL4 == 0 & IL13 == 0 & IL10_e == 0 & HGF_e == 0 & TGFb_e == 0 & IGF1_e == 0')\n",
    "inpM1_HGF = ('IFNg == 1 & LPS == 1 & VEGF_e == 0 & PlGF == 0 & GMCSF == 0 & IL6_e == 0 & IL1b_e == 0 & IC == 0 & PGE2_e == 0 & IL4 == 0 & IL13 == 0 & IL10_e == 0 & HGF_e == 1 & TGFb_e == 0 & IGF1_e == 0')\n",
    "inpM1_VEGF = ('IFNg == 1 & LPS == 1 & VEGF_e == 1 & PlGF == 0 & GMCSF == 0 & IL6_e == 0 & IL1b_e == 0 & IC == 0 & PGE2_e == 0 & IL4 == 0 & IL13 == 0 & IL10_e == 0 & HGF_e == 0 & TGFb_e == 0 & IGF1_e == 0')\n",
    "inpM1_PlGF = ('IFNg == 1 & LPS == 1 & VEGF_e == 0 & PlGF == 1 & GMCSF == 0 & IL6_e == 0 & IL1b_e == 0 & IC == 0 & PGE2_e == 0 & IL4 == 0 & IL13 == 0 & IL10_e == 0 & HGF_e == 0 & TGFb_e == 0 & IGF1_e == 0')\n",
    "inpM1_TGFb = ('IFNg == 1 & LPS == 1 & VEGF_e == 0 & PlGF == 0 & GMCSF == 0 & IL6_e == 0 & IL1b_e == 0 & IC == 0 & PGE2_e == 0 & IL4 == 0 & IL13 == 0 & IL10_e == 0 & HGF_e == 0 & TGFb_e == 1 & IGF1_e == 0')\n",
    "inpM1_IGF1 = ('IFNg == 1 & LPS == 1 & VEGF_e == 0 & PlGF == 0 & GMCSF == 0 & IL6_e == 0 & IL1b_e == 0 & IC == 0 & PGE2_e == 0 & IL4 == 0 & IL13 == 0 & IL10_e == 0 & HGF_e == 0 & TGFb_e == 0 & IGF1_e == 1')\n",
    "\n",
    "inpM2 = ('IFNg == 0 & LPS == 0 & VEGF_e == 0 & PlGF == 0 & GMCSF == 0 & IL6_e == 0 & IL1b_e == 0 & IC == 0 & PGE2_e == 0 & IL4 == 1 & IL13 == 1 & IL10_e == 0 & HGF_e == 0 & TGFb_e == 0 & IGF1_e == 0')\n",
    "inpM2_HGF = ('IFNg == 0 & LPS == 0 & VEGF_e == 0 & PlGF == 0 & GMCSF == 0 & IL6_e == 0 & IL1b_e == 0 & IC == 0 & PGE2_e == 0 & IL4 == 1 & IL13 == 1 & IL10_e == 0 & HGF_e == 1 & TGFb_e == 0 & IGF1_e == 0')\n",
    "inpM2_VEGF = ('IFNg == 0 & LPS == 0 & VEGF_e == 1 & PlGF == 0 & GMCSF == 0 & IL6_e == 0 & IL1b_e == 0 & IC == 0 & PGE2_e == 0 & IL4 == 1 & IL13 == 1 & IL10_e == 0 & HGF_e == 0 & TGFb_e == 0 & IGF1_e == 0')\n",
    "inpM2_PlGF = ('IFNg == 0 & LPS == 0 & VEGF_e == 0 & PlGF == 1 & GMCSF == 0 & IL6_e == 0 & IL1b_e == 0 & IC == 0 & PGE2_e == 0 & IL4 == 1 & IL13 == 1 & IL10_e == 0 & HGF_e == 0 & TGFb_e == 0 & IGF1_e == 0')\n",
    "inpM2_TGFb = ('IFNg == 0 & LPS == 0 & VEGF_e == 0 & PlGF == 0 & GMCSF == 0 & IL6_e == 0 & IL1b_e == 0 & IC == 0 & PGE2_e == 0 & IL4 == 1 & IL13 == 1 & IL10_e == 0 & HGF_e == 0 & TGFb_e == 1 & IGF1_e == 0')\n",
    "inpM2_IGF1 = ('IFNg == 0 & LPS == 0 & VEGF_e == 0 & PlGF == 0 & GMCSF == 0 & IL6_e == 0 & IL1b_e == 0 & IC == 0 & PGE2_e == 0 & IL4 == 1 & IL13 == 1 & IL10_e == 0 & HGF_e == 0 & TGFb_e == 0 & IGF1_e == 1')\n",
    "\n",
    "\n",
    "# Preparing indexes for all output nodes\n",
    "markers = ['IRF3','TBK1','STAT5','IRF5','STAT1','IFNa','RelA','NFkB','IFNb','TNFa','IL1b','IL1a','iNOS','CCL2','CCL4','CD80','IL12','CCR7','TRAF6','JNK','SOCS3','p38','MNK1','AP1','IL6','IL1Ra','ERK','PPARG','STAT6','JMJD3','STAT3','SOCS1','IRF4','Arg1','KLF4','CCL18','CCL17','CD200R','CD206','CCL22','CD163','cMaf','IL10','TGFb', 'PDL1', 'IL8', 'HGF', 'IGF1', 'PI3K','SNAIL', 'VEGF' ]\n",
    "\n",
    "phen_arrays = [['M1','M1','M1','M1','M1','M1','M1','M1','M1','M1','M1','M1','M1','M1','M1','M1','M1','M1','M1 & M2','M1 & M2','M1 & M2','M1 & M2','M1 & M2','M1 & M2','M1 & M2','M1 & M2', 'M2', 'M2', 'M2', 'M2', 'M2', 'M2', 'M2', 'M2', 'M2', 'M2', 'M2', 'M2', 'M2', 'M2', 'M2', 'M2', 'M2', 'M2', 'M2', 'M1 & M2', 'M1 & M2', 'M2', 'M1 & M2', 'M1 & M2', 'M2' ], markers]"
   ]
  },
  {
   "cell_type": "markdown",
   "id": "4094b40c",
   "metadata": {},
   "source": [
    "Workflow for the following two cells:\n",
    "1) Setting the initial states. \".query\" in the pandas library asks a boolean expression to each of the columns in the Dataframe.\n",
    "\n",
    "2) Selecting only the output nodes to appear in heat map.\n",
    "\n",
    "3) Creating a multilevel index with the phenotypes, which makes it possible to store and manipulate data with an arbitrary number of dimensions in lower dimensional data structures like dataframes."
   ]
  },
  {
   "cell_type": "code",
   "execution_count": null,
   "id": "3bff8a55",
   "metadata": {},
   "outputs": [],
   "source": [
    "# Setting initial states with growth factors HGF, VEGF, PlGF, TGFb, IGF1 in M0 macrophages\n",
    "# Selecting only the output nodes.\n",
    "# Creating a multilevel indexs with the phenotypes.\n",
    "\n",
    "M0_ON = fix_df.query(inpM0)\n",
    "M0_ON = M0_ON[markers]\n",
    "M0_ON.columns = pd.MultiIndex.from_arrays(phen_arrays, names= ['Phenotype', 'Node'])\n",
    "\n",
    "M0_HGF = fix_df.query(inpM0_HGF)\n",
    "M0_HGF = M0_HGF[markers]\n",
    "M0_HGF.columns = pd.MultiIndex.from_arrays(phen_arrays, names= ['Phenotype', 'Node'])\n",
    "\n",
    "M0_VEGF = fix_df.query(inpM0_VEGF)\n",
    "M0_VEGF = M0_VEGF[markers]\n",
    "M0_VEGF.columns = pd.MultiIndex.from_arrays(phen_arrays, names= ['Phenotype', 'Node'])\n",
    "\n",
    "M0_PlGF = fix_df.query(inpM0_PlGF)\n",
    "M0_PlGF = M0_PlGF[markers]\n",
    "M0_PlGF.columns = pd.MultiIndex.from_arrays(phen_arrays, names= ['Phenotype', 'Node'])\n",
    "\n",
    "M0_TGFb = fix_df.query(inpM0_TGFb)\n",
    "M0_TGFb = M0_TGFb[markers]\n",
    "M0_TGFb.columns = pd.MultiIndex.from_arrays(phen_arrays, names= ['Phenotype', 'Node'])\n",
    "\n",
    "M0_IGF1 = fix_df.query(inpM0_IGF1)\n",
    "M0_IGF1 = M0_IGF1[markers]\n",
    "M0_IGF1.columns = pd.MultiIndex.from_arrays(phen_arrays, names= ['Phenotype', 'Node'])\n",
    "\n",
    "frames = [M0_ON, M0_HGF, M0_VEGF, M0_PlGF, M0_TGFb, M0_IGF1]\n",
    "\n",
    "# Concatenating all the filtered dataframes into one large dataframe\n",
    "results = pd.concat(frames, keys=[\"M0\", \"M0 + HGF\", \"M0 + VEGF\", \"M0 + PlGF\", \"M0 + TGFb\", \"M0 + IGF1\"])\n",
    "\n",
    "# Resetting the index to move the stimuli names to columns\n",
    "results.reset_index(inplace=True)\n",
    "\n",
    "# Lexsorting the MultiIndex\n",
    "results = results.sort_index(axis=1)\n",
    "\n",
    "fig, ax = plt.subplots(figsize=(25, 6)) \n",
    "\n",
    "# Filter the DataFrame to keep only the columns representing the data for the heatmap\n",
    "data_for_heatmap = results.drop(['level_0', 'level_1'], axis=1)                 \n",
    "\n",
    "M0map = sns.heatmap(data_for_heatmap, cmap = sns.light_palette(\"seagreen\", as_cmap=True), square = False, linewidth=0.1, \n",
    "                    cbar_kws={\"shrink\": .1})\n",
    "\n",
    "# Setting y-axis labels using the 'level_0' column which contains the stimuli names\n",
    "M0map.set_yticklabels(results['level_0'].values, rotation=0)\n",
    "\n",
    "M0map.set_ylabel(\"Stimuli\", fontsize=20, font=\"Serif\" )\n",
    "M0map.set_xlabel(\"Phenotype-Node\", fontsize=20, font=\"Serif\")\n",
    "plt.show()\n",
    "\n",
    "\n"
   ]
  },
  {
   "cell_type": "markdown",
   "id": "40059565",
   "metadata": {},
   "source": [
    "**Figure 2. Predicted stable states in M0 macrophages**\n",
    "M0 macrophages along with the stimuli of different growth factor. Green cells are activated nodes, while white nodes are inactivated."
   ]
  },
  {
   "cell_type": "code",
   "execution_count": null,
   "id": "e2db1940",
   "metadata": {
    "scrolled": true
   },
   "outputs": [],
   "source": [
    "# ANALYSIS\n",
    "# Creating lists of nodes based on phenotype\n",
    "M1_nodes = df_phen[df_phen['Phenotype'] == 'M1']['Node'].tolist()\n",
    "M2_nodes = df_phen[df_phen['Phenotype'] == 'M2']['Node'].tolist()\n",
    "\n",
    "# Concatenating the lists\n",
    "M1_M2_nodes = M1_nodes + M2_nodes\n",
    "\n",
    "# Creating a dictionary\n",
    "ratios_dict = {}\n",
    "\n",
    "# Going through each row (stimulus)\n",
    "for stimulus in results['level_0'].unique(): # ['M0' 'M0 + HGF' 'M0 + VEGF' 'M0 + PlGF' 'M0 + TGFb' 'M0 + IGF1']\n",
    "    stimulus_df = results[results['level_0'] == stimulus].loc[:, pd.IndexSlice[:, M1_M2_nodes]]\n",
    "    \n",
    "    # Filtering\n",
    "    M1_nodes_filter = pd.IndexSlice['M1', M1_nodes]\n",
    "    M2_nodes_filter = pd.IndexSlice['M2', M2_nodes]\n",
    "\n",
    "    # Counting the active M1 and M2 nodes for each row\n",
    "    m1_count = stimulus_df.loc[:, M1_nodes_filter].apply(lambda x: sum(x == 1), axis=1)\n",
    "    m2_count = stimulus_df.loc[:, M2_nodes_filter].apply(lambda x: sum(x == 1), axis=1)\n",
    "\n",
    "    # Initializing ratio as a series of zeros\n",
    "    ratio = m1_count.astype(str) + '/' + m2_count.astype(str)\n",
    "\n",
    "    # Storing the ratio in the dictionary\n",
    "    ratios_dict[stimulus] = ratio\n",
    "\n",
    "# Converting the dictionary to a Dataframe\n",
    "ratios_df = pd.DataFrame.from_dict(ratios_dict)\n",
    "\n",
    "# Melting the DataFrame\n",
    "df_melted = ratios_df.melt(var_name='Stimuli', value_name='Active M1/M2')\n",
    "\n",
    "# Dropping NaN rows\n",
    "df_melted.dropna(inplace=True)\n",
    "\n",
    "# Changing the row indexes\n",
    "df_melted.index = ['1', '2', '3', '4', '5','6']\n",
    "\n",
    "print(\"\"\"Table 3. Activated M1/M2 ratio for each stimuli. Ratio > 1 signifies a majority of activated M1 nodes. \n",
    "         'inf' signifies zero activated M2 nodes.\\n\"\"\")\n",
    "print(df_melted)\n"
   ]
  },
  {
   "cell_type": "code",
   "execution_count": null,
   "id": "b6238be4",
   "metadata": {
    "scrolled": true
   },
   "outputs": [],
   "source": [
    "# Setting initial states with growth factors HGF, VEGF, PlGF, TGFb, IGF1 along with M1 phenotype stimuli.\n",
    "# Selecting only the output nodes.\n",
    "# Creating a multilevel indexs with the phenotypes.\n",
    "\n",
    "M1_ON = fix_df.query(inpM1)\n",
    "M1_ON = M1_ON[markers]\n",
    "M1_ON.columns = pd.MultiIndex.from_arrays(phen_arrays, names= ['Phenotype', 'Node'])\n",
    "\n",
    "M1_HGF = fix_df.query(inpM1_HGF)\n",
    "M1_HGF = M1_HGF[markers]\n",
    "M1_HGF.columns = pd.MultiIndex.from_arrays(phen_arrays, names= ['Phenotype', 'Node'])\n",
    "\n",
    "M1_VEGF = fix_df.query(inpM1_VEGF)\n",
    "M1_VEGF = M1_VEGF[markers]\n",
    "M1_VEGF.columns = pd.MultiIndex.from_arrays(phen_arrays, names= ['Phenotype', 'Node'])\n",
    "\n",
    "M1_PlGF = fix_df.query(inpM1_PlGF)\n",
    "M1_PlGF = M1_PlGF[markers]\n",
    "M1_PlGF.columns = pd.MultiIndex.from_arrays(phen_arrays, names= ['Phenotype', 'Node'])\n",
    "\n",
    "M1_TGFb = fix_df.query(inpM1_TGFb)\n",
    "M1_TGFb = M1_TGFb[markers]\n",
    "M1_TGFb.columns = pd.MultiIndex.from_arrays(phen_arrays, names= ['Phenotype', 'Node'])\n",
    "\n",
    "M1_IGF1 = fix_df.query(inpM1_IGF1)\n",
    "M1_IGF1 = M1_IGF1[markers]\n",
    "M1_IGF1.columns = pd.MultiIndex.from_arrays(phen_arrays, names= ['Phenotype', 'Node'])\n",
    "\n",
    "frames = [M1_ON, M1_HGF, M1_VEGF, M1_PlGF, M1_TGFb, M1_IGF1]\n",
    "\n",
    "# Concatenating all the filtered dataframes into one large dataframe\n",
    "results = pd.concat(frames, keys=[\"M1\", \"M1 + HGF\", \"M1 + VEGF\", \"M1 + PlGF\", \"M1 + TGFb\", \"M1 + IGF1\"])\n",
    "\n",
    "# Resetting the index to move the stimuli names to columns\n",
    "results.reset_index(inplace=True)\n",
    "\n",
    "# Lexsorting the MultiIndex\n",
    "results = results.sort_index(axis=1)\n",
    "\n",
    "print(\"Figure 3. Predicted stable states when M1 input ligands IFNg and LPS are on, along with one other growth factor stimuli.\")\n",
    "fig, ax = plt.subplots(figsize=(25, 6)) \n",
    "\n",
    "# Filter the DataFrame to keep only the columns representing the data for the heatmap\n",
    "data_for_heatmap = results.drop(['level_0', 'level_1'], axis=1)                 \n",
    "\n",
    "M1map = sns.heatmap(data_for_heatmap, cmap = sns.light_palette(\"seagreen\", as_cmap=True), square = False, linewidth=0.1, \n",
    "                    cbar_kws={\"shrink\": .1})\n",
    "\n",
    "# Setting y-axis labels using the 'level_0' column which contains the stimuli names\n",
    "M1map.set_yticklabels(results['level_0'].values, rotation=0)\n",
    "\n",
    "M1map.set_ylabel(\"Stimuli\", fontsize=20, font=\"Serif\" )\n",
    "M1map.set_xlabel(\"Phenotype-Node\", fontsize=20, font=\"Serif\")\n",
    "plt.show()\n"
   ]
  },
  {
   "cell_type": "markdown",
   "id": "e9121130",
   "metadata": {},
   "source": [
    "**Figure 3. Predicted stable states in M1 macrophages**\n",
    "M1 macrophages along with the stimuli of different growth factor. Green cells are activated nodes, while white cells are inactivated nodes."
   ]
  },
  {
   "cell_type": "code",
   "execution_count": null,
   "id": "1e170fb9",
   "metadata": {},
   "outputs": [],
   "source": [
    "# ANALYSIS\n",
    "# Creating a dictionary\n",
    "ratios_dict = {}\n",
    "\n",
    "# Going through each row (stimulus)\n",
    "for stimulus in results['level_0'].unique(): # ['M0' 'M0 + HGF' 'M0 + VEGF' 'M0 + PlGF' 'M0 + TGFb' 'M0 + IGF1']\n",
    "    stimulus_df = results[results['level_0'] == stimulus].loc[:, pd.IndexSlice[:, M1_M2_nodes]]\n",
    "    \n",
    "    # Filtering\n",
    "    M1_nodes_filter = pd.IndexSlice['M1', M1_nodes]\n",
    "    M2_nodes_filter = pd.IndexSlice['M2', M2_nodes]\n",
    "\n",
    "    # Counting the active M1 and M2 nodes for each row\n",
    "    m1_count = stimulus_df.loc[:, M1_nodes_filter].apply(lambda x: sum(x == 1), axis=1)\n",
    "    m2_count = stimulus_df.loc[:, M2_nodes_filter].apply(lambda x: sum(x == 1), axis=1)\n",
    "\n",
    "    # Initializing ratio as a series of zeros\n",
    "    ratio = m1_count.astype(str) + '/' + m2_count.astype(str)\n",
    "\n",
    "    # Storing the ratio in the dictionary\n",
    "    ratios_dict[stimulus] = ratio\n",
    "\n",
    "# Converting the dictionary to a Dataframe\n",
    "ratios_df = pd.DataFrame.from_dict(ratios_dict)\n",
    "\n",
    "# Melting the DataFrame\n",
    "df_melted = ratios_df.melt(var_name='Stimuli', value_name='Ratio')\n",
    "\n",
    "# Dropping NaN rows\n",
    "df_melted.dropna(inplace=True)\n",
    "\n",
    "# Changing the row indexes\n",
    "df_melted.index = ['1', '2', '3', '4', '5','6','7']\n",
    "\n",
    "print(\"\"\"Table 4. Activated M1/M2 ratio for each stimuli. Ratio > 1 signifies a majority of activated M1 nodes. \n",
    "         'inf' signifies zero activated M2 nodes.\\n\"\"\")\n",
    "print(df_melted)"
   ]
  },
  {
   "cell_type": "markdown",
   "id": "a37d8e23",
   "metadata": {},
   "source": [
    "As shown in Figure 3, there is one predicted stable state for each condition, except for M1 + IGF-1 stimuli, where two stable states are obtained. Thus, multistability with IGF-1 stimuli in M1 macrophages is obtainable according to the model."
   ]
  },
  {
   "cell_type": "code",
   "execution_count": null,
   "id": "0fb49287",
   "metadata": {},
   "outputs": [],
   "source": [
    "# Setting initial states with growth factors HGF, VEGF, PlGF, TGFb, IGF1 along with M2 phenotype stimuli.\n",
    "# Selecting only the output nodes.\n",
    "# Creating a multilevel indexs with the phenotypes.\n",
    "\n",
    "M2_ON = fix_df.query(inpM2)\n",
    "M2_ON = M2_ON[markers]\n",
    "M2_ON.columns = pd.MultiIndex.from_arrays(phen_arrays, names= ['Phenotype', 'Node'])\n",
    "\n",
    "M2_HGF = fix_df.query(inpM2_HGF)\n",
    "M2_HGF = M2_HGF[markers]\n",
    "M2_HGF.columns = pd.MultiIndex.from_arrays(phen_arrays, names= ['Phenotype', 'Node'])\n",
    "\n",
    "M2_VEGF = fix_df.query(inpM2_VEGF)\n",
    "M2_VEGF = M2_VEGF[markers]\n",
    "M2_VEGF.columns = pd.MultiIndex.from_arrays(phen_arrays, names= ['Phenotype', 'Node'])\n",
    "\n",
    "M2_PlGF = fix_df.query(inpM2_PlGF)\n",
    "M2_PlGF = M2_PlGF[markers]\n",
    "M2_PlGF.columns = pd.MultiIndex.from_arrays(phen_arrays, names= ['Phenotype', 'Node'])\n",
    "\n",
    "M2_TGFb = fix_df.query(inpM2_TGFb)\n",
    "M2_TGFb = M2_TGFb[markers]\n",
    "M2_TGFb.columns = pd.MultiIndex.from_arrays(phen_arrays, names= ['Phenotype', 'Node'])\n",
    "\n",
    "M2_IGF1 = fix_df.query(inpM2_IGF1)\n",
    "M2_IGF1 = M2_IGF1[markers]\n",
    "M2_IGF1.columns = pd.MultiIndex.from_arrays(phen_arrays, names= ['Phenotype', 'Node'])\n",
    "\n",
    "frames = [M2_ON, M2_HGF, M2_VEGF, M2_PlGF, M2_TGFb, M2_IGF1]\n",
    "\n",
    "# Concatenating all the filtered dataframes into one large dataframe\n",
    "results = pd.concat(frames, keys=[\"M2\", \"M2 + HGF\", \"M2 + VEGF\", \"M2 + PlGF\", \"M2 + TGFb\", \"M2 + IGF1\"])\n",
    "\n",
    "# Resetting the index to move the stimuli names to columns\n",
    "results.reset_index(inplace=True)\n",
    "\n",
    "# Lexsorting the MultiIndex\n",
    "results = results.sort_index(axis=1)\n",
    "\n",
    "print(\"Figure 4. Predicted stable states when M2 input ligands IL-4 and IL-13 are on, along with one other growth factor stimuli. \")\n",
    "fig, ax = plt.subplots(figsize=(25, 6))                   \n",
    "                    \n",
    "# Filter the DataFrame to keep only the columns representing the data for the heatmap\n",
    "data_for_heatmap = results.drop(['level_0', 'level_1'], axis=1)  \n",
    "\n",
    "M2map = sns.heatmap(data_for_heatmap, cmap = sns.light_palette(\"seagreen\", as_cmap=True), square = False, linewidth=0.1, cbar_kws={\"shrink\": .1})\n",
    "\n",
    "# Setting y-axis labels using the 'level_0' column which contains the stimuli names\n",
    "M2map.set_yticklabels(results['level_0'].values, rotation=0)\n",
    "\n",
    "M2map.set_ylabel(\"Stimuli\", fontsize=20, font=\"Serif\")\n",
    "M2map.set_xlabel(\"Phenotype-Node\", fontsize=20, font=\"Serif\")\n",
    "plt.show()\n"
   ]
  },
  {
   "cell_type": "markdown",
   "id": "6735b4e0",
   "metadata": {},
   "source": [
    "**Figure 3. Predicted stable states in M2 macrophages**\n",
    "M2 macrophages along with the stimuli of different growth factor. Green cells are activated nodes, while white cells are inactivated nodes."
   ]
  },
  {
   "cell_type": "code",
   "execution_count": null,
   "id": "17b280ab",
   "metadata": {},
   "outputs": [],
   "source": [
    "# ANALYSIS\n",
    "# Creating a dictionary\n",
    "ratios_dict = {}\n",
    "\n",
    "# Going through each row (stimulus)\n",
    "for stimulus in results['level_0'].unique(): # ['M0' 'M0 + HGF' 'M0 + VEGF' 'M0 + PlGF' 'M0 + TGFb' 'M0 + IGF1']\n",
    "    stimulus_df = results[results['level_0'] == stimulus].loc[:, pd.IndexSlice[:, M1_M2_nodes]]\n",
    "    \n",
    "    # Filtering\n",
    "    M1_nodes_filter = pd.IndexSlice['M1', M1_nodes]\n",
    "    M2_nodes_filter = pd.IndexSlice['M2', M2_nodes]\n",
    "\n",
    "    # Counting the active M1 and M2 nodes for each row\n",
    "    m1_count = stimulus_df.loc[:, M1_nodes_filter].apply(lambda x: sum(x == 1), axis=1)\n",
    "    m2_count = stimulus_df.loc[:, M2_nodes_filter].apply(lambda x: sum(x == 1), axis=1)\n",
    "\n",
    "    # Initializing ratio as a series of zeros\n",
    "    ratio = m1_count.astype(str) + '/' + m2_count.astype(str)\n",
    "\n",
    "    # Storing the ratio in the dictionary\n",
    "    ratios_dict[stimulus] = ratio\n",
    "\n",
    "# Converting the dictionary to a Dataframe\n",
    "ratios_df = pd.DataFrame.from_dict(ratios_dict)\n",
    "\n",
    "# Melting the DataFrame\n",
    "df_melted = ratios_df.melt(var_name='Stimuli', value_name='Ratio')\n",
    "\n",
    "# Dropping NaN rows\n",
    "df_melted.dropna(inplace=True)\n",
    "\n",
    "# Changing the row indexes\n",
    "df_melted.index = ['1', '2', '3', '4', '5','6']\n",
    "\n",
    "print(\"\"\"Table 3. Activated M1/M2 ratio for each stimuli. Ratio > 1 signifies a majority of activated M1 nodes. \n",
    "         'inf' signifies zero activated M2 nodes.\\n\"\"\")\n",
    "print(df_melted)"
   ]
  },
  {
   "cell_type": "markdown",
   "id": "53969155",
   "metadata": {},
   "source": [
    "As shown in Figure 4, there is one predicted stable state for each initial condition."
   ]
  },
  {
   "cell_type": "code",
   "execution_count": null,
   "id": "7dc79533",
   "metadata": {},
   "outputs": [],
   "source": []
  }
 ],
 "metadata": {
  "kernelspec": {
   "display_name": "Python 3 (ipykernel)",
   "language": "python",
   "name": "python3"
  },
  "language_info": {
   "codemirror_mode": {
    "name": "ipython",
    "version": 3
   },
   "file_extension": ".py",
   "mimetype": "text/x-python",
   "name": "python",
   "nbconvert_exporter": "python",
   "pygments_lexer": "ipython3",
   "version": "3.9.16"
  }
 },
 "nbformat": 4,
 "nbformat_minor": 5
}
