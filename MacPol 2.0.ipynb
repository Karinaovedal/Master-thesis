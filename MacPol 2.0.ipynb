{
 "cells": [
  {
   "cell_type": "code",
   "execution_count": 1,
   "id": "6ffdc696",
   "metadata": {},
   "outputs": [],
   "source": [
    "import ginsim\n",
    "import biolqm\n",
    "\n",
    "import numpy as np\n",
    "import pandas as pd\n",
    "import seaborn as sns\n",
    "import matplotlib.pyplot as plt\n",
    "from matplotlib.colors import ListedColormap"
   ]
  },
  {
   "cell_type": "markdown",
   "id": "06440476",
   "metadata": {},
   "source": [
    "# MACROPHAGE POLARIZATION LOGICAL MODELLING"
   ]
  },
  {
   "cell_type": "markdown",
   "id": "80ccf34a",
   "metadata": {},
   "source": [
    "This notebook represents a workflow of analyzing a Macrophage Polarization (MacPol) model that was extended from the efforts of Viviam Solangeli Bermúdez Paiva and Marco Fariñas. In this model, given the name MacPol 2.0, growth factors have been included; both as inputs and as outputs, as well as other entities interacting with these. This was mainly performed to investigate the effects growth factors as stimulants might have on macrophage polarization, but is also a valuable extension in the general functions of macrophages. The original MacPol model consisted of 68 nodes and 132 edges. MacPol 2.0 was expanded to contain 94 nodes and 200 edges. 10 of the added nodes are growth factors, both as inputs and outputs. 25 nodes are associated with the M1 phenotype, 26 with the M2 phenotype, 10 with both phenotypes, and four with the lipid metabolism.\n",
    "The expansion effort led to a total of 26 novel nodes and 68 interactions between them, determined by the nodes' \n",
    "\n",
    "Macrophages are an essential part of the innate immune system, and has several functions. They are both professional antigen-presenting cells to T-cells, and are further involved in the immune response through phagocytosis and the production and secretion of cytokines. \n",
    "The model focuses specifically on stimulis that lead to various productions of cytokines, which are signalling molecules that can act on cells in the outside environment, including the producing cell itself. Based on the stimuli a macrophage cell receives, it will undergo an activation to either pro-inflammatory (M1) or anti-inflammatory (M2) phenotypes. This will ultimately result in a distinct profile of cytokines secreted. It is important to note that this spectrum is continous, but that in the model it has been simplified to these discrete phenotypes. \n",
    "\n",
    "MacPol 2.0 is a boolean model consisting of nodes and edges. Nodes represent proteins, transcription factors, genes, or ions. The relationships between them are represented as edges. Green arrows connecting the nodes represent an activating effect, while red blunted arrows represents inhibitory effects on the target node. The model has four main \"layers\", where 1) the top nodes represent various stimuli that macrophages are able to receive due to 2) receptors. This ligand-receptor binding causes a 3) downstream activation/inhibition of molecules, essentially resulting in the 4) transcription of genes that will be translated to convey appropriate signals. These bottom nodes, thus have only ingoing nodes and no outgoing effects in the model. \n",
    "\n",
    "The main aim of the notebook is to compute stable states of the model with different growth factor stimuli, and to evaluate the fit of the model to that of THP-1 cell behaviour. To achieve this, bioLQM was used.\n"
   ]
  },
  {
   "cell_type": "markdown",
   "id": "58963a79",
   "metadata": {},
   "source": [
    "## Loading and visualizing the network"
   ]
  },
  {
   "cell_type": "code",
   "execution_count": 2,
   "id": "2ba9d955",
   "metadata": {
    "scrolled": true
   },
   "outputs": [],
   "source": [
    "MacPol = ginsim.load(\"MacPol_2.zginml\")\n",
    "# ginsim.show(gs_model) --> This command does not show all colors from the original GINsim Model, therefore an image is shown instead."
   ]
  },
  {
   "cell_type": "markdown",
   "id": "33e4ed38",
   "metadata": {},
   "source": [
    "![MacPol_2.png](MacPol_2.png) "
   ]
  },
  {
   "cell_type": "markdown",
   "id": "6c463239",
   "metadata": {},
   "source": [
    "**Figure 1: Extended Macrophage Polarization (MacPol 2.0) model.**\n",
    "<br>Nodes represent proteins, transcription factors, genes, or ions. Relationships between nodes are represented as edges, where green arrows represent activation, and red blunted arrows represent inhibition of the target node. Orange nodes: external stimuli and receptors. Turqoise nodes: Novel nodes of the extended model, that was not present in the model created by Bermúdez. Red nodes: entities related to the M1 phenotype. Blue nodes: entities related to the M2 phenotype. Purple nodes: entities related to both phenotypes. Yellow nodes: entities related to the lipid metabolism mediated by cytosolic enzyme phospholipase A2 (cPLA2).\n",
    "Furthermore, the middle nodes in general represent intracellular signaling molecules and transcription factors, while the bottom nodes are molecules secreted or expressed (cytokines, chemokines, and membrane markers)."
   ]
  },
  {
   "cell_type": "markdown",
   "id": "51425e60",
   "metadata": {},
   "source": [
    "Converting the model to biolqm and pint compliant models:"
   ]
  },
  {
   "cell_type": "code",
   "execution_count": 3,
   "id": "7e039a27",
   "metadata": {},
   "outputs": [],
   "source": [
    "lqm_model = ginsim.to_biolqm(MacPol)\n",
    "pint_model = biolqm.to_pint(lqm_model)"
   ]
  },
  {
   "cell_type": "markdown",
   "id": "a9c336c5",
   "metadata": {},
   "source": [
    "Obtaining a summary of the general model properties:"
   ]
  },
  {
   "cell_type": "code",
   "execution_count": 4,
   "id": "73b87e2b",
   "metadata": {},
   "outputs": [],
   "source": [
    "pint_model.summary()"
   ]
  },
  {
   "cell_type": "markdown",
   "id": "96741301",
   "metadata": {},
   "source": [
    "nb_automata signifies the number of nodes,\n",
    "nb_local_states is the sum of the number of local states in each automaton,\n",
    "max_local_states gives the number of local states of the largest automaton,\n",
    "nb_transitions is the number of defined local transitions,\n",
    "and nb_states is the total number of global states (corresponds to 2<sup>95</sup> in this case)."
   ]
  },
  {
   "cell_type": "markdown",
   "id": "349af05d",
   "metadata": {},
   "source": [
    "## Node - Phenotype associations"
   ]
  },
  {
   "cell_type": "markdown",
   "id": "0278158a",
   "metadata": {},
   "source": [
    "In MacPol 2.0, 6 of the novel nodes are related to the M1 phenotype, 2 with both phenotypes, and 8 with M2. Additionally, 5 input nodes and 5 receptors have also been added. Represented below are the nodes novel for MacPol 2.0, displayed below with their associated phenotype. "
   ]
  },
  {
   "cell_type": "code",
   "execution_count": 5,
   "id": "4c6e8809",
   "metadata": {},
   "outputs": [],
   "source": [
    "Stimuli = {\"Node\": ['HGF_e', 'IGF1_e', 'TNFa_e', 'TGFb_e', 'VEGF_e'],\n",
    "          \"Phenotype\": ['Stimuli','Stimuli','Stimuli','Stimuli','Stimuli']}\n",
    "Stimuli_df = pd.DataFrame(data=Stimuli)\n",
    "\n",
    "Receptor = {\"Node\": ['cMET', 'IGF1R', 'TNFR','TGFR','VEGFR'],\n",
    "           \"Phenotype\": ['Receptor','Receptor','Receptor','Receptor','Receptor']}\n",
    "Receptor_df = pd.DataFrame(data=Receptor)\n",
    "\n",
    "M1 = {\"Node\": ['IL8','TRAF2','TAK1K63','Pell1'], \n",
    "                 \"Phenotype\": ['M1','M1','M1','M1']}\n",
    "M1_df = pd.DataFrame(data=M1)\n",
    "\n",
    "M1_M2 = {\"Node\": ['SNAIL','PI3K'],\n",
    "         \"Phenotype\": ['M1 & M2','M1 & M2']}\n",
    "M1_M2_df = pd.DataFrame(data=M1_M2)\n",
    "\n",
    "M2 = {\"Node\": ['PDL1', 'HGF', 'IGF1', 'VEGF','SMADhtc','SMAD7','SMAD6','TAK1K158'],\n",
    "     \"Phenotype\":['M2','M2','M2','M2','M2','M2','M2','M2']}\n",
    "M2_df = pd.DataFrame(data=M2)\n",
    "\n",
    "LM = {\"Node\": ['Ca2', 'cPLA2a', 'PGE2', 'COX2'],\n",
    "     \"Phenotype\":['LM', 'LM', 'LM', 'LM']}\n",
    "LM_df = pd.DataFrame(data=LM)\n",
    "\n",
    "Node_phenotype = pd.concat([Stimuli_df, Receptor_df, M1_df, M1_M2_df, M2_df, LM_df])\n",
    "\n",
    "print(\"Table 1. Novel MacPol 2.0 nodes and their associated phenotype. LM = Lipid metabolism.\")\n",
    "df_phen = pd.DataFrame(data=Node_phenotype)\n",
    "df_phen.style.hide(axis='index')"
   ]
  },
  {
   "cell_type": "markdown",
   "id": "847c553d",
   "metadata": {},
   "source": [
    "## Identification of stable states using bioLQM"
   ]
  },
  {
   "cell_type": "markdown",
   "id": "500f8f02",
   "metadata": {},
   "source": [
    "The original MacPol model developed by Viviam Bérmudez Paiva, has here been extended to include intracellular and extracellular effects of growth factors. This is due to the wish of identifying the stable states for when growth factors are present in the extracellular environment, along with stimuli for polarizing the macrophages into a phenotype, identical to what was performed in the THP-1 experiments. As a treatment to polarize the cells into an M1-like phenotype, IFNg + LPS was used, while IL-13 + IL-4 was used as a M2 treatment. \n",
    "\n",
    "First, all possible stable states was computed using bioLQM, to investigate whether the amount of stable states is as expected, or if there a more. "
   ]
  },
  {
   "cell_type": "code",
   "execution_count": 6,
   "id": "4e228776",
   "metadata": {},
   "outputs": [],
   "source": [
    "# Computing all stable states\n",
    "fixpoints = biolqm.fixpoints(lqm_model)\n",
    "print(\"Table 2. All possible stable states.\")\n",
    "fix_df = pd.DataFrame(fixpoints)\n",
    "fix_df"
   ]
  },
  {
   "cell_type": "markdown",
   "id": "f7059cce",
   "metadata": {},
   "source": [
    "When computing the stable states using bioLQM, as shown above in Table 1, a total of 33579 stable states is obtained. This is without defining any initial input states. As shown in the model, there are a total of 15 inputs (ligands), and thus it is expected to obtain a total of 2<sup>15</sup> = 32768 stable states. An excess amount of stable states as is the situation here, signifies the presence of multistability for some input conditions, i.e. the system is able to achieve multiple stable states under the same external conditions."
   ]
  },
  {
   "cell_type": "markdown",
   "id": "752e7f8c",
   "metadata": {},
   "source": [
    "### COMPARISON OF METHODS FOR CREATING INITIAL CONDITIONS AND OBTAINING STABLE STATES"
   ]
  },
  {
   "cell_type": "markdown",
   "id": "8cf7f847",
   "metadata": {},
   "source": [
    "When comparing this notebook to that of Viviam, it was identified that we used different methods for defining stable states. This difference had to be investigated to check if the resulting dataframes are identical or not, and if not, my method needed to be changed.\n"
   ]
  },
  {
   "cell_type": "code",
   "execution_count": 7,
   "id": "76f11bc6",
   "metadata": {},
   "outputs": [],
   "source": [
    "# Viviam's method:\n",
    "condition = biolqm.perturbation(lqm_model, \"IFNg%1 LPS%1 VEGF_e%0 GMCSF%0 IL6_e%0 IL1b_e%0 IC%0 PGE2_e%0 IL4%0 IL13%0 IL10_e%0 HGF_e%0 TGFb_e%0 IGF1_e%0\")\n",
    "fps_condition = biolqm.fixpoints(condition, \"-u asynchronous\")\n",
    "condition_df = pd.DataFrame(fps_condition)\n",
    "condition_df"
   ]
  },
  {
   "cell_type": "code",
   "execution_count": 8,
   "id": "6289fab1",
   "metadata": {},
   "outputs": [],
   "source": [
    "# My chosen method:\n",
    "inpM1 = ('IFNg == 1 & LPS == 1 & VEGF_e == 0 & GMCSF == 0 & IL6_e == 0 & IL1b_e == 0 & IC == 0 & PGE2_e == 0 & IL4 == 0 & IL13 == 0 & IL10_e == 0 & HGF_e == 0 & TGFb_e == 0 & IGF1_e == 0')\n",
    "filtered_fixpoints = fix_df.query(inpM1)\n",
    "filtered_fixpoints\n"
   ]
  },
  {
   "cell_type": "markdown",
   "id": "ac80363a",
   "metadata": {},
   "source": [
    "As can be seen, the two methods yield the same results, except that the row labels differ. The row label from my method is coming from the index in fix_df, whereas for Viviam's method, the number will be either 0 or 1 due to creating one data frame per condition. This does not matter result-wise and hence, the conclusion is that I can continue with my method of choice. "
   ]
  },
  {
   "cell_type": "markdown",
   "id": "08e9ac30",
   "metadata": {},
   "source": [
    "### Creating initial conditions and computing the corresponding stable states"
   ]
  },
  {
   "cell_type": "markdown",
   "id": "622af0f9",
   "metadata": {},
   "source": [
    "To compute the reachable stable states with different stimuli, initial state conditions must first be defined. M0 has been included, in addition to M1 and M2 because it establishes a baseline which can be used for comparison. Additionally, it offers a more nuanced and complete picture of how growth factors influence macrophage polarization across the spectrum of phenotypes. "
   ]
  },
  {
   "cell_type": "code",
   "execution_count": 9,
   "id": "3353eab3",
   "metadata": {},
   "outputs": [],
   "source": [
    "# Creating initial state conditions:\n",
    "inpM0 = ('IFNg == 0 & LPS == 0 & VEGF_e == 0 & TNFa_e == 0 & GMCSF == 0 & IL6_e == 0 & IL1b_e == 0 & IC == 0 & PGE2_e == 0 & IL4 == 0 & IL13 == 0 & IL10_e == 0 & HGF_e == 0 & TGFb_e == 0 & IGF1_e == 0')\n",
    "inpM0_HGF = ('IFNg == 0 & LPS == 0 & VEGF_e == 0 & TNFa_e == 0 & GMCSF == 0 & IL6_e == 0 & IL1b_e == 0 & IC == 0 & PGE2_e == 0 & IL4 == 0 & IL13 == 0 & IL10_e == 0 & HGF_e == 1 & TGFb_e == 0 & IGF1_e == 0')\n",
    "inpM0_VEGF = ('IFNg == 0 & LPS == 0 & VEGF_e == 1 & TNFa_e == 0 & GMCSF == 0 & IL6_e == 0 & IL1b_e == 0 & IC == 0 & PGE2_e == 0 & IL4 == 0 & IL13 == 0 & IL10_e == 0 & HGF_e == 0 & TGFb_e == 0 & IGF1_e == 0')\n",
    "inpM0_GMCSF = ('IFNg == 0 & LPS == 0 & VEGF_e == 0 & TNFa_e == 0 & GMCSF == 1 & IL6_e == 0 & IL1b_e == 0 & IC == 0 & PGE2_e == 0 & IL4 == 0 & IL13 == 0 & IL10_e == 0 & HGF_e == 0 & TGFb_e == 0 & IGF1_e == 0')\n",
    "inpM0_IGF1 = ('IFNg == 0 & LPS == 0 & VEGF_e == 0 & TNFa_e == 0 & GMCSF == 0 & IL6_e == 0 & IL1b_e == 0 & IC == 0 & PGE2_e == 0 & IL4 == 0 & IL13 == 0 & IL10_e == 0 & HGF_e == 0 & TGFb_e == 0 & IGF1_e == 1')\n",
    "inpM0_TNFa = ('IFNg == 0 & LPS == 0 & VEGF_e == 0 & TNFa_e == 1 & GMCSF == 0 & IL6_e == 0 & IL1b_e == 0 & IC == 0 & PGE2_e == 0 & IL4 == 0 & IL13 == 0 & IL10_e == 0 & HGF_e == 0 & TGFb_e == 0 & IGF1_e == 0')\n",
    "inpM0_TGFb = ('IFNg == 0 & LPS == 0 & VEGF_e == 0 & TNFa_e == 0 & GMCSF == 0 & IL6_e == 0 & IL1b_e == 0 & IC == 0 & PGE2_e == 0 & IL4 == 0 & IL13 == 0 & IL10_e == 0 & HGF_e == 0 & TGFb_e == 1 & IGF1_e == 0')\n",
    "inpM0_IL6 = ('IFNg == 0 & LPS == 0 & VEGF_e == 0 & TNFa_e == 0 & GMCSF == 0 & IL6_e == 1 & IL1b_e == 0 & IC == 0 & PGE2_e == 0 & IL4 == 0 & IL13 == 0 & IL10_e == 0 & HGF_e == 0 & TGFb_e == 0 & IGF1_e == 0')\n",
    "inpM0_IL4 = ('IFNg == 0 & LPS == 0 & VEGF_e == 0 & TNFa_e == 0 & GMCSF == 0 & IL6_e == 0 & IL1b_e == 0 & IC == 0 & PGE2_e == 0 & IL4 == 1 & IL13 == 0 & IL10_e == 0 & HGF_e == 0 & TGFb_e == 0 & IGF1_e == 0')\n",
    "inpM0_IL13 = ('IFNg == 0 & LPS == 0 & VEGF_e == 0 & TNFa_e == 0 & GMCSF == 0 & IL6_e == 0 & IL1b_e == 0 & IC == 0 & PGE2_e == 0 & IL4 == 0 & IL13 == 1 & IL10_e == 0 & HGF_e == 0 & TGFb_e == 0 & IGF1_e == 0')\n",
    "\n",
    "inpM1 = ('IFNg == 1 & LPS == 1 & VEGF_e == 0 & TNFa_e == 0 & GMCSF == 0 & IL6_e == 0 & IL1b_e == 0 & IC == 0 & PGE2_e == 0 & IL4 == 0 & IL13 == 0 & IL10_e == 0 & HGF_e == 0 & TGFb_e == 0 & IGF1_e == 0')\n",
    "inpM1_HGF = ('IFNg == 1 & LPS == 1 & VEGF_e == 0 & TNFa_e == 0 & GMCSF == 0 & IL6_e == 0 & IL1b_e == 0 & IC == 0 & PGE2_e == 0 & IL4 == 0 & IL13 == 0 & IL10_e == 0 & HGF_e == 1 & TGFb_e == 0 & IGF1_e == 0')\n",
    "inpM1_VEGF = ('IFNg == 1 & LPS == 1 & VEGF_e == 1 & TNFa_e == 0 & GMCSF == 0 & IL6_e == 0 & IL1b_e == 0 & IC == 0 & PGE2_e == 0 & IL4 == 0 & IL13 == 0 & IL10_e == 0 & HGF_e == 0 & TGFb_e == 0 & IGF1_e == 0')\n",
    "inpM1_GMCSF = ('IFNg == 1 & LPS == 1 & VEGF_e == 0 & TNFa_e == 0 & GMCSF == 1 & IL6_e == 0 & IL1b_e == 0 & IC == 0 & PGE2_e == 0 & IL4 == 0 & IL13 == 0 & IL10_e == 0 & HGF_e == 0 & TGFb_e == 0 & IGF1_e == 0')\n",
    "inpM1_IGF1 = ('IFNg == 1 & LPS == 1 & VEGF_e == 0 & TNFa_e == 0 & GMCSF == 0 & IL6_e == 0 & IL1b_e == 0 & IC == 0 & PGE2_e == 0 & IL4 == 0 & IL13 == 0 & IL10_e == 0 & HGF_e == 0 & TGFb_e == 0 & IGF1_e == 1')\n",
    "inpM1_TNFa = ('IFNg == 1 & LPS == 1 & VEGF_e == 0 & TNFa_e == 1 & GMCSF == 0 & IL6_e == 0 & IL1b_e == 0 & IC == 0 & PGE2_e == 0 & IL4 == 0 & IL13 == 0 & IL10_e == 0 & HGF_e == 0 & TGFb_e == 1 & IGF1_e == 0')\n",
    "inpM1_TGFb = ('IFNg == 1 & LPS == 1 & VEGF_e == 0 & TNFa_e == 0 & GMCSF == 0 & IL6_e == 0 & IL1b_e == 0 & IC == 0 & PGE2_e == 0 & IL4 == 0 & IL13 == 0 & IL10_e == 0 & HGF_e == 0 & TGFb_e == 0 & IGF1_e == 0')\n",
    "inpM1_IL6 = ('IFNg == 1 & LPS == 1 & VEGF_e == 0 & TNFa_e == 0 & GMCSF == 0 & IL6_e == 1 & IL1b_e == 0 & IC == 0 & PGE2_e == 0 & IL4 == 0 & IL13 == 0 & IL10_e == 0 & HGF_e == 0 & TGFb_e == 1 & IGF1_e == 0')\n",
    "inpM1_IL4 = ('IFNg == 1 & LPS == 1 & VEGF_e == 0 & TNFa_e == 0 & GMCSF == 0 & IL6_e == 0 & IL1b_e == 0 & IC == 0 & PGE2_e == 0 & IL4 == 1 & IL13 == 0 & IL10_e == 0 & HGF_e == 0 & TGFb_e == 1 & IGF1_e == 0')\n",
    "inpM1_IL13 = ('IFNg == 1 & LPS == 1 & VEGF_e == 0 & TNFa_e == 0 & GMCSF == 0 & IL6_e == 0 & IL1b_e == 0 & IC == 0 & PGE2_e == 0 & IL4 == 0 & IL13 == 1 & IL10_e == 0 & HGF_e == 0 & TGFb_e == 1 & IGF1_e == 0')\n",
    "\n",
    "inpM2 = ('IFNg == 0 & LPS == 0 & VEGF_e == 0 & TNFa_e == 0 & GMCSF == 0 & IL6_e == 0 & IL1b_e == 0 & IC == 0 & PGE2_e == 0 & IL4 == 1 & IL13 == 1 & IL10_e == 0 & HGF_e == 0 & TGFb_e == 0 & IGF1_e == 0')\n",
    "inpM2_HGF = ('IFNg == 0 & LPS == 0 & VEGF_e == 0 & TNFa_e == 0 & GMCSF == 0 & IL6_e == 0 & IL1b_e == 0 & IC == 0 & PGE2_e == 0 & IL4 == 1 & IL13 == 1 & IL10_e == 0 & HGF_e == 1 & TGFb_e == 0 & IGF1_e == 0')\n",
    "inpM2_VEGF = ('IFNg == 0 & LPS == 0 & VEGF_e == 1 & TNFa_e == 0 & GMCSF == 0 & IL6_e == 0 & IL1b_e == 0 & IC == 0 & PGE2_e == 0 & IL4 == 1 & IL13 == 1 & IL10_e == 0 & HGF_e == 0 & TGFb_e == 0 & IGF1_e == 0')\n",
    "inpM2_GMCSF = ('IFNg == 0 & LPS == 0 & VEGF_e == 0 & TNFa_e == 0 & GMCSF == 1 & IL6_e == 0 & IL1b_e == 0 & IC == 0 & PGE2_e == 0 & IL4 == 1 & IL13 == 1 & IL10_e == 0 & HGF_e == 0 & TGFb_e == 0 & IGF1_e == 0')\n",
    "inpM2_IGF1 = ('IFNg == 0 & LPS == 0 & VEGF_e == 0 & TNFa_e == 0 & GMCSF == 0 & IL6_e == 0 & IL1b_e == 0 & IC == 0 & PGE2_e == 0 & IL4 == 1 & IL13 == 1 & IL10_e == 0 & HGF_e == 0 & TGFb_e == 0 & IGF1_e == 1')\n",
    "inpM2_TNFa = ('IFNg == 0 & LPS == 0 & VEGF_e == 0 & TNFa_e == 1 & GMCSF == 0 & IL6_e == 0 & IL1b_e == 0 & IC == 0 & PGE2_e == 0 & IL4 == 1 & IL13 == 1 & IL10_e == 0 & HGF_e == 0 & TGFb_e == 0 & IGF1_e == 0')\n",
    "inpM2_TGFb = ('IFNg == 0 & LPS == 0 & VEGF_e == 0 & TNFa_e == 0 & GMCSF == 0 & IL6_e == 0 & IL1b_e == 0 & IC == 0 & PGE2_e == 0 & IL4 == 1 & IL13 == 1 & IL10_e == 0 & HGF_e == 0 & TGFb_e == 1 & IGF1_e == 0')\n",
    "inpM2_IL6 = ('IFNg == 0 & LPS == 0 & VEGF_e == 0 & TNFa_e == 0 & GMCSF == 0 & IL6_e == 1 & IL1b_e == 0 & IC == 0 & PGE2_e == 0 & IL4 == 1 & IL13 == 1 & IL10_e == 0 & HGF_e == 0 & TGFb_e == 0 & IGF1_e == 0')\n",
    "inpM2_IL4 = ('IFNg == 0 & LPS == 0 & VEGF_e == 0 & TNFa_e == 0 & GMCSF == 0 & IL6_e == 1 & IL1b_e == 0 & IC == 0 & PGE2_e == 0 & IL4 == 1 & IL13 == 1 & IL10_e == 0 & HGF_e == 0 & TGFb_e == 0 & IGF1_e == 0')\n",
    "inpM2_IL13 = ('IFNg == 0 & LPS == 0 & VEGF_e == 0 & TNFa_e == 0 & GMCSF == 0 & IL6_e == 1 & IL1b_e == 0 & IC == 0 & PGE2_e == 0 & IL4 == 1 & IL13 == 1 & IL10_e == 0 & HGF_e == 0 & TGFb_e == 0 & IGF1_e == 0')\n",
    "\n",
    "\n",
    "# Preparing indexes for all output nodes\n",
    "markers = ['IL8','TRAF2','Pell1','TAK1K63','IRF3','TBK1','STAT1','STAT5','IRF5','IFNa','IFNb','TNFa','CCL2','IL12','RelA','IL1b','IL1a','CCL4','NFkB','CCR7','CD80','iNOS',\n",
    "           'ERK','HGF','IL10','PDL1','PPARG','Arg1','CCL18','STAT6','JMJD3','STAT3','SOCS1','IRF4','CCL17','cMaf','CCL22','IGF1','CD200R','VEGF','KLF4','CD206','CD163','TGFb','SMAD7','SMAD6','SMADhtc','TAK1K158',\n",
    "           'TRAF6','JNK','SOCS3','p38','MNK1','AP1','PI3K','SNAIL','IL6','IL1Ra',\n",
    "           'Ca2','cPLA2a','PGE2','COX2']\n",
    "\n",
    "phen_arrays = [['M1','M1','M1','M1','M1','M1','M1','M1','M1','M1','M1','M1','M1','M1','M1','M1','M1','M1','M1','M1','M1','M1', \n",
    "                'M2','M2','M2','M2','M2','M2','M2','M2','M2','M2','M2','M2','M2','M2','M2','M2','M2','M2','M2','M2','M2','M2','M2','M2','M2','M2',\n",
    "                'M1 & M2','M1 & M2','M1 & M2','M1 & M2','M1 & M2','M1 & M2','M1 & M2','M1 & M2','M1 & M2','M1 & M2',\n",
    "                'LM', 'LM', 'LM', 'LM'], markers]\n",
    "\n",
    "# Preparing indexes for output nodes with only in-edges\n",
    "out_markers = ['IL8', 'IFNa', 'IFNb', 'TNFa', 'CCL2', 'IL1b', 'IL1a', 'IL12', 'CCL4', 'CCR7', 'CD80', 'iNOS', \n",
    "               'COX2', 'IL6', 'IL1Ra', 'IL10', 'HGF', 'PDL1', 'CCL17', 'CCL18', 'CCL22', \n",
    "               'Arg1', 'IGF1', 'CD200R', 'CD206', 'CD163', 'TGFb', 'VEGF' ]\n",
    "\n",
    "out_phen_array = [['M1', 'M1', 'M1', 'M1', 'M1', 'M1', 'M1', 'M1', 'M1', 'M1', 'M1', 'M1', \n",
    "                   'LM','M1 & M2', 'M1 & M2', 'M2', 'M2', 'M2', 'M2', 'M2', 'M2', 'M2', 'M2', 'M2', 'M2', 'M2', 'M2', 'M2'], out_markers]\n",
    "\n",
    "\n",
    "# DEFINING HEATMAP COLORS\n",
    "cmap_dict = {0: '#DFCAB0', 1: '#F5EBDD', 2: '#F3A1A1', 3: '#BBEC8D'}\n",
    "cmap = ListedColormap([cmap_dict[i] for i in range(4)])\n",
    "\n",
    "\n",
    "# Creating lists of nodes based on phenotype\n",
    "M1_nodes = df_phen[df_phen['Phenotype'] == 'M1']['Node'].tolist()\n",
    "M2_nodes = df_phen[df_phen['Phenotype'] == 'M2']['Node'].tolist()\n",
    "\n",
    "# Concatenating the lists\n",
    "M1_M2_nodes = M1_nodes + M2_nodes"
   ]
  },
  {
   "cell_type": "code",
   "execution_count": 10,
   "id": "247b47f0",
   "metadata": {},
   "outputs": [],
   "source": [
    "# FORMATTING FUNCTIONS\n",
    "\n",
    "# Coloring nodes where cells without stimuli matches the equivalent node with stimuli in another row. \n",
    "# .iloc is integer based location of cell values in dataframe.\n",
    "def format_diff_expression(df, markers_override = markers, start_row = 1):\n",
    "    for row_count in range(start_row, len(df)):                           \n",
    "        for marker in range(len(markers_override)):\n",
    "            if df.iloc[0][marker] != df.iloc[row_count][marker]:\n",
    "                if df.iloc[0][marker] > df.iloc[row_count][marker]:\n",
    "                    df.iloc[row_count][marker] = 2\n",
    "                elif df.iloc[0][marker] < df.iloc[row_count][marker]:\n",
    "                    df.iloc[row_count][marker] = 3\n",
    "    return df\n",
    "\n",
    "\n",
    "# Presenting activated M1/M2 nodes as ratios:\n",
    "\n",
    "def ratio(df, stimuli_list):\n",
    "    # Counting the activated M1 and M2 nodes\n",
    "    M1_active = df.loc[:, pd.IndexSlice['M1', :]].apply(lambda x: sum(x.isin([1, 3])), axis=1)\n",
    "    M2_active = df.loc[:, pd.IndexSlice['M2', :]].apply(lambda x: sum(x.isin([1, 3])), axis=1)\n",
    "\n",
    "    # Creating a column that contains the ratio as a fraction (as a string)\n",
    "    ratios = M1_active.astype(str) + '/' + M2_active.astype(str)\n",
    "\n",
    "    # Create the DataFrame\n",
    "    df = pd.DataFrame({'Stimuli': stimulis, 'Ratio': ratios})\n",
    "\n",
    "    return df\n"
   ]
  },
  {
   "cell_type": "markdown",
   "id": "4094b40c",
   "metadata": {},
   "source": [
    "Workflow for the following two cells:\n",
    "1) Setting the initial states. \".query\" in the pandas library asks a boolean expression to each of the columns in the Dataframe.\n",
    "\n",
    "2) Selecting only the output nodes to appear in heat map.\n",
    "\n",
    "3) Creating a multilevel index with the phenotypes, which makes it possible to store and manipulate data with an arbitrary number of dimensions in lower dimensional data structures like dataframes."
   ]
  },
  {
   "cell_type": "code",
   "execution_count": 11,
   "id": "3bff8a55",
   "metadata": {
    "scrolled": false
   },
   "outputs": [],
   "source": [
    "# Setting initial states with growth factors HGF, VEGF, PlGF, TGFb, IGF1 in M0 macrophages\n",
    "# Selecting only the output nodes.\n",
    "# Creating a multilevel index with the phenotypes.\n",
    "\n",
    "M0_ON = fix_df.query(inpM0)\n",
    "M0_ON = M0_ON[markers]\n",
    "M0_ON.columns = pd.MultiIndex.from_arrays(phen_arrays, names= ['Phenotype', 'Node'])\n",
    "\n",
    "M0_HGF = fix_df.query(inpM0_HGF)\n",
    "M0_HGF = M0_HGF[markers]\n",
    "M0_HGF.columns = pd.MultiIndex.from_arrays(phen_arrays, names= ['Phenotype', 'Node'])\n",
    "\n",
    "M0_VEGF = fix_df.query(inpM0_VEGF)\n",
    "M0_VEGF = M0_VEGF[markers]\n",
    "M0_VEGF.columns = pd.MultiIndex.from_arrays(phen_arrays, names= ['Phenotype', 'Node'])\n",
    "\n",
    "M0_TGFb = fix_df.query(inpM0_TGFb)\n",
    "M0_TGFb = M0_TGFb[markers]\n",
    "M0_TGFb.columns = pd.MultiIndex.from_arrays(phen_arrays, names= ['Phenotype', 'Node'])\n",
    "\n",
    "M0_IGF1 = fix_df.query(inpM0_IGF1)\n",
    "M0_IGF1 = M0_IGF1[markers]\n",
    "M0_IGF1.columns = pd.MultiIndex.from_arrays(phen_arrays, names= ['Phenotype', 'Node'])\n",
    "\n",
    "M0_GMCSF = fix_df.query(inpM0_GMCSF)\n",
    "M0_GMCSF = M0_GMCSF[markers]\n",
    "M0_GMCSF.columns = pd.MultiIndex.from_arrays(phen_arrays, names= ['Phenotype', 'Node'])\n",
    "\n",
    "M0_IL6 = fix_df.query(inpM0_IL6)\n",
    "M0_IL6 = M0_IL6[markers]\n",
    "M0_IL6.columns = pd.MultiIndex.from_arrays(phen_arrays, names= ['Phenotype', 'Node'])\n",
    "\n",
    "M0_IL4 = fix_df.query(inpM0_IL4)\n",
    "M0_IL4 = M0_IL4[markers]\n",
    "M0_IL4.columns = pd.MultiIndex.from_arrays(phen_arrays, names= ['Phenotype', 'Node'])\n",
    "\n",
    "M0_IL13 = fix_df.query(inpM0_IL13)\n",
    "M0_IL13 = M0_IL13[markers]\n",
    "M0_IL13.columns = pd.MultiIndex.from_arrays(phen_arrays, names= ['Phenotype', 'Node'])\n",
    "\n",
    "\n",
    "frames = [M0_ON, M0_HGF, M0_VEGF, M0_TGFb, M0_IGF1, M0_GMCSF, M0_IL6, M0_IL4, M0_IL13]\n",
    "\n",
    "# Concatenating all the filtered dataframes into one large dataframe\n",
    "results = pd.concat(frames, keys=[\"M0\", \"M0 + HGF\", \"M0 + VEGF\", \"M0 + TGFb\", \"M0 + IGF1\", \"M0 + GMCSF\", \"M0 + IL6\", \"M0 + IL4\", \"M0 + IL13\"])\n",
    "\n",
    "# Resetting the index to move the stimuli names to columns\n",
    "results.reset_index(inplace=True)\n",
    "\n",
    "# Lexsorting the MultiIndex\n",
    "results = results.sort_index(axis=1)\n",
    "\n",
    "fig, ax = plt.subplots(figsize=(25, 9)) \n",
    "\n",
    "# Filter the DataFrame to keep only the columns representing the data for the heatmap\n",
    "M0data = results.drop(['level_0', 'level_1'], axis=1)\n",
    "\n",
    "# Giving nodes with differential expression from M0 values =2 if overexpressed and =3 if underexpressed.\n",
    "M0data = format_diff_expression(M0data)\n",
    "\n",
    "\n",
    "M0map = sns.heatmap(M0data, cmap = cmap, square = False, \n",
    "                    linewidth=0.1, cbar_kws={\"shrink\": 1}) \n",
    " \n",
    "# Manually specifying discrete legend labelling \n",
    "colorbar = ax.collections[0].colorbar\n",
    "colorbar.set_ticks([0.4, 1.1, 1.9, 2.5])\n",
    "colorbar.set_ticklabels(['Low expression', 'High expression', 'Low differential expression', \n",
    "                         'High differential expression'])\n",
    "\n",
    "\n",
    "# Setting y-axis labels using the 'level_0' column which contains the stimuli names\n",
    "M0map.set_yticklabels(results['level_0'].values, rotation=0)\n",
    "\n",
    "M0map.set_ylabel(\"Stimuli\", fontsize=20, font=\"Serif\" )\n",
    "M0map.set_xlabel(\"Phenotype-Node\", fontsize=20, font=\"Serif\")\n",
    "\n",
    "\n",
    "plt.show()\n"
   ]
  },
  {
   "cell_type": "markdown",
   "id": "99af8abe",
   "metadata": {},
   "source": [
    "**Figure 2. Predicted stable states in M0 macrophages using growth factors as stimuli.**\n",
    "<br>M0 macrophages along with the stimuli of different growth factors. \n",
    "Green cells are differentially activated nodes, red cells are differentially inactivated nodes. Nodes with a light beige color are nodes with high expression, but not different to the M0 phenotype without any other activations. Dark beige cells are the same, but low expression. \n"
   ]
  },
  {
   "cell_type": "code",
   "execution_count": 12,
   "id": "1dfc2852",
   "metadata": {},
   "outputs": [],
   "source": [
    "# CALCULATING THE RATIO OF ACTIVATED M1 VS M2 NODES\n",
    "\n",
    "# Creating a list of stimulis\n",
    "stimulis = ['M0', 'M0 + HGF', 'M0 + VEGF', 'M0 + TGFb', 'M0 + IGF1', 'M0 + GMCSF', 'M0 + IL6', 'M0 + IL6', 'M0 + IL4', 'M0 + IL13']\n",
    "\n",
    "print(\"\"\"Table 3. Activated M1/M2 ratio for each stimuli in M0 macrophages.\"\"\")\n",
    "ratio(M0data, stimulis)\n"
   ]
  },
  {
   "cell_type": "code",
   "execution_count": null,
   "id": "b6238be4",
   "metadata": {
    "scrolled": true
   },
   "outputs": [],
   "source": [
    "# Setting initial states with growth factors HGF, VEGF, PlGF, TGFb, IGF1 along with M1 phenotype stimuli.\n",
    "# Selecting only the output nodes.\n",
    "# Creating a multilevel index with the phenotypes.\n",
    "\n",
    "M1_ON = fix_df.query(inpM1)\n",
    "M1_ON = M1_ON[markers]\n",
    "M1_ON.columns = pd.MultiIndex.from_arrays(phen_arrays, names= ['Phenotype', 'Node'])\n",
    "\n",
    "M1_HGF = fix_df.query(inpM1_HGF)\n",
    "M1_HGF = M1_HGF[markers]\n",
    "M1_HGF.columns = pd.MultiIndex.from_arrays(phen_arrays, names= ['Phenotype', 'Node'])\n",
    "\n",
    "M1_VEGF = fix_df.query(inpM1_VEGF)\n",
    "M1_VEGF = M1_VEGF[markers]\n",
    "M1_VEGF.columns = pd.MultiIndex.from_arrays(phen_arrays, names= ['Phenotype', 'Node'])\n",
    "\n",
    "M1_TGFb = fix_df.query(inpM1_TGFb)\n",
    "M1_TGFb = M1_TGFb[markers]\n",
    "M1_TGFb.columns = pd.MultiIndex.from_arrays(phen_arrays, names= ['Phenotype', 'Node'])\n",
    "\n",
    "M1_IGF1 = fix_df.query(inpM1_IGF1)\n",
    "M1_IGF1 = M1_IGF1[markers]\n",
    "M1_IGF1.columns = pd.MultiIndex.from_arrays(phen_arrays, names= ['Phenotype', 'Node'])\n",
    "\n",
    "M1_GMCSF = fix_df.query(inpM1_GMCSF)\n",
    "M1_GMCSF = M1_GMCSF[markers]\n",
    "M1_GMCSF.columns = pd.MultiIndex.from_arrays(phen_arrays, names= ['Phenotype', 'Node'])\n",
    "\n",
    "M1_IL6 = fix_df.query(inpM1_IL6)\n",
    "M1_IL6 = M1_IL6[markers]\n",
    "M1_IL6.columns = pd.MultiIndex.from_arrays(phen_arrays, names= ['Phenotype', 'Node'])\n",
    "\n",
    "M1_IL4 = fix_df.query(inpM1_IL4)\n",
    "M1_IL4 = M1_IL4[markers]\n",
    "M1_IL4.columns = pd.MultiIndex.from_arrays(phen_arrays, names= ['Phenotype', 'Node'])\n",
    "\n",
    "M1_IL13 = fix_df.query(inpM1_IL13)\n",
    "M1_IL13 = M1_IL13[markers]\n",
    "M1_IL13.columns = pd.MultiIndex.from_arrays(phen_arrays, names= ['Phenotype', 'Node'])\n",
    "\n",
    "\n",
    "frames = [M1_ON, M1_HGF, M1_VEGF, M1_TGFb, M1_IGF1, M1_GMCSF, M1_IL6, M1_IL4, M1_IL13]\n",
    "\n",
    "# Concatenating all the filtered dataframes into one large dataframe\n",
    "results = pd.concat(frames, keys=[\"M1\", \"M1 + HGF\", \"M1 + VEGF\", \"M1 + TGFb\", \"M1 + IGF1\", \"M1 + GMCSF\", \"M1 + IL6\", \"M1 + IL4\", \"M1 + IL13\"])\n",
    "\n",
    "# Resetting the index to move the stimuli names to columns\n",
    "results.reset_index(inplace=True)\n",
    "\n",
    "# Lexsorting the MultiIndex\n",
    "results = results.sort_index(axis=1)\n",
    "\n",
    "fig, ax = plt.subplots(figsize=(25, 9)) \n",
    "\n",
    "# Filter the DataFrame to keep only the columns representing the data for the heatmap\n",
    "M1data = results.drop(['level_0', 'level_1'], axis=1)\n",
    "\n",
    "# Coloring nodes where M1 matches the equivalent node in another row. \n",
    "M1data = format_diff_expression(M1data)\n",
    "\n",
    "\n",
    "M1map = sns.heatmap(M1data, cmap = cmap, square = False, \n",
    "                    linewidth=0.1, cbar_kws={\"shrink\": 1}) \n",
    " \n",
    "# Manually specifying discrete legend labelling \n",
    "colorbar = ax.collections[0].colorbar\n",
    "colorbar.set_ticks([0, 1, 2, 3])\n",
    "colorbar.set_ticklabels(['Low expression', 'High expression', 'Low differential expression', \n",
    "                         'High differential expression'])\n",
    "\n",
    "\n",
    "# Setting y-axis labels using the 'level_0' column which contains the stimuli names\n",
    "M1map.set_yticklabels(results['level_0'].values, rotation=0)\n",
    "\n",
    "M1map.set_ylabel(\"Stimuli\", fontsize=20, font=\"Serif\" )\n",
    "M1map.set_xlabel(\"Phenotype-Node\", fontsize=20, font=\"Serif\")\n",
    "\n",
    "plt.show()\n"
   ]
  },
  {
   "cell_type": "markdown",
   "id": "7ff88c39",
   "metadata": {},
   "source": [
    "**Figure 3. Predicted stable states in M1 macrophages.**\n",
    "<br>M1 input ligands IFNg and LPS are on, along with one other growth factor stimuli."
   ]
  },
  {
   "cell_type": "markdown",
   "id": "0e0cdd46",
   "metadata": {},
   "source": [
    "As shown in Figure 3, there is one predicted stable state for each condition."
   ]
  },
  {
   "cell_type": "code",
   "execution_count": null,
   "id": "1e170fb9",
   "metadata": {},
   "outputs": [],
   "source": [
    "# CALCULATING THE RATIO OF ACTIVATED M1 VS M2 NODES\n",
    "\n",
    "# Creating a list of stimulis\n",
    "stimulis = ['M1', 'M1 + HGF', 'M1 + VEGF', 'M1 + TGFb', 'M1 + IGF1', 'M1 + GMCSF', 'M1 + IL6 (1)', 'M1 + IL6 (2)', 'M1 + IL4', 'M1 + IL13']\n",
    "\n",
    "print(\"\"\"Table 4. Activated M1/M2 ratio for each stimuli in M1 macrophages.\"\"\")\n",
    "ratio(M1data, stimulis)\n"
   ]
  },
  {
   "cell_type": "code",
   "execution_count": null,
   "id": "0fb49287",
   "metadata": {},
   "outputs": [],
   "source": [
    "# Setting initial states with growth factors HGF, VEGF, PlGF, TGFb, IGF1 along with M2 phenotype stimuli. \n",
    "# Here, IL4 and IL13 will have the same outcome, as they are already part of the polarization treatment for M2 phenotype.\n",
    "# They have however still been added for simplifying the comparison across the three dataframes further down.\n",
    "# Selecting only the output nodes.\n",
    "# Creating a multilevel index with the phenotypes.\n",
    "\n",
    "M2_ON = fix_df.query(inpM2) # Here, this will also represent results with IL-4 and IL-3 as growth factor treatments\n",
    "M2_ON = M2_ON[markers]\n",
    "M2_ON.columns = pd.MultiIndex.from_arrays(phen_arrays, names= ['Phenotype', 'Node'])\n",
    "\n",
    "M2_HGF = fix_df.query(inpM2_HGF)\n",
    "M2_HGF = M2_HGF[markers]\n",
    "M2_HGF.columns = pd.MultiIndex.from_arrays(phen_arrays, names= ['Phenotype', 'Node'])\n",
    "\n",
    "M2_VEGF = fix_df.query(inpM2_VEGF)\n",
    "M2_VEGF = M2_VEGF[markers]\n",
    "M2_VEGF.columns = pd.MultiIndex.from_arrays(phen_arrays, names= ['Phenotype', 'Node'])\n",
    "\n",
    "M2_TGFb = fix_df.query(inpM2_TGFb)\n",
    "M2_TGFb = M2_TGFb[markers]\n",
    "M2_TGFb.columns = pd.MultiIndex.from_arrays(phen_arrays, names= ['Phenotype', 'Node'])\n",
    "\n",
    "M2_IGF1 = fix_df.query(inpM2_IGF1)\n",
    "M2_IGF1 = M2_IGF1[markers]\n",
    "M2_IGF1.columns = pd.MultiIndex.from_arrays(phen_arrays, names= ['Phenotype', 'Node'])\n",
    "\n",
    "M2_GMCSF = fix_df.query(inpM2_GMCSF)\n",
    "M2_GMCSF = M2_GMCSF[markers]\n",
    "M2_GMCSF.columns = pd.MultiIndex.from_arrays(phen_arrays, names= ['Phenotype', 'Node'])\n",
    "\n",
    "M2_IL6 = fix_df.query(inpM2_IL6)\n",
    "M2_IL6 = M2_IL6[markers]\n",
    "M2_IL6.columns = pd.MultiIndex.from_arrays(phen_arrays, names= ['Phenotype', 'Node'])\n",
    "\n",
    "M2_IL4 = fix_df.query(inpM2_IL4)\n",
    "M2_IL4 = M2_IL4[markers]\n",
    "M2_IL4.columns = pd.MultiIndex.from_arrays(phen_arrays, names= ['Phenotype', 'Node'])\n",
    "\n",
    "M2_IL13 = fix_df.query(inpM2_IL13)\n",
    "M2_IL13 = M2_IL13[markers]\n",
    "M2_IL13.columns = pd.MultiIndex.from_arrays(phen_arrays, names= ['Phenotype', 'Node'])\n",
    "\n",
    "frames = [M2_ON, M2_HGF, M2_VEGF, M2_TGFb, M2_IGF1, M2_GMCSF, M2_IL6, M2_IL4, M2_IL13]\n",
    "\n",
    "# Concatenating all the filtered dataframes into one large dataframe\n",
    "results = pd.concat(frames, keys=[\"M2\", \"M2 + HGF\", \"M2 + VEGF\", \"M2 + TGFb\", \"M2 + IGF1\", \"M2 + GMCSF\", \"M2 + IL6\", \"M2 + IL4\", \"M2 + IL13\"]).copy()\n",
    "\n",
    "# Resetting the index to move the stimuli names to columns\n",
    "results.reset_index(inplace=True)\n",
    "\n",
    "# Lexsorting the MultiIndex\n",
    "results = results.sort_index(axis=1)\n",
    "\n",
    "fig, ax = plt.subplots(figsize=(25, 9))                   \n",
    "                    \n",
    "# Filter the DataFrame to keep only the columns representing the data for the heatmap\n",
    "M2data = results.drop(['level_0', 'level_1'], axis=1)  \n",
    "\n",
    "# Coloring nodes where M2 matches the equivalent node in another row. \n",
    "M2data = format_diff_expression(M2data)\n",
    "\n",
    "\n",
    "M2map = sns.heatmap(M2data, cmap = cmap, square = False, \n",
    "                    linewidth=0.1, cbar_kws={\"shrink\": 1}) \n",
    " \n",
    "# Manually specifying discrete legend labelling \n",
    "colorbar = ax.collections[0].colorbar\n",
    "colorbar.set_ticks([0, 1, 2, 3])\n",
    "colorbar.set_ticklabels(['Low expression', 'High expression', 'Low differential expression', \n",
    "                         'High differential expression'])\n",
    "\n",
    "\n",
    "# Setting y-axis labels using the 'level_0' column which contains the stimuli names\n",
    "M2map.set_yticklabels(results['level_0'].values, rotation=0)\n",
    "\n",
    "M2map.set_ylabel(\"Stimuli\", fontsize=20, font=\"Serif\")\n",
    "M2map.set_xlabel(\"Phenotype-Node\", fontsize=20, font=\"Serif\")\n",
    "plt.show()\n"
   ]
  },
  {
   "cell_type": "markdown",
   "id": "6735b4e0",
   "metadata": {},
   "source": [
    "**Figure 4. Predicted stable states in M2 macrophages**\n",
    "<br>M2 macrophages along with the stimuli of different growth factor. Green cells are activated nodes, while white cells are inactivated nodes."
   ]
  },
  {
   "cell_type": "markdown",
   "id": "1639020c",
   "metadata": {},
   "source": [
    "As shown in Figure 4, there is one predicted stable state for each initial condition."
   ]
  },
  {
   "cell_type": "code",
   "execution_count": null,
   "id": "17b280ab",
   "metadata": {},
   "outputs": [],
   "source": [
    "# CALCULATING THE RATIO OF ACTIVATED M1 VS M2 NODES\n",
    "\n",
    "# Creating a list of stimulis\n",
    "stimulis = ['M2', 'M2 + HGF', 'M2 + VEGF', 'M2 + TGFb', 'M2 + IGF1', 'M2 + GMCSF', 'M2 + IL6', 'M2 + IL4', 'M2 + IL13']\n",
    "\n",
    "print(\"\"\"Table 5. Activated M1/M2 ratio for each stimuli in M2 macrophages.\"\"\")\n",
    "ratio(M2data, stimulis) "
   ]
  },
  {
   "cell_type": "code",
   "execution_count": null,
   "id": "67017bfb",
   "metadata": {},
   "outputs": [],
   "source": [
    "# COMPARING EXPRESSION ACROSS THE THREE DATAFRAMES (M0, M1 AND M2)\n",
    "\n",
    "# Creating a copy of the M2 dataframe\n",
    "compare_df = M2data.copy(deep=True)\n",
    "\n",
    "fig, ax = plt.subplots(figsize=(25, 6))                   \n",
    "\n",
    "# Comparing dataframes for M0, M1 and M2 to identify which markers with differential expression are common\n",
    "for row_count in range(1,len(M2data)):\n",
    "    for marker in range(len(markers)):\n",
    "        if M0data.iloc[row_count][marker] == 2 or M0data.iloc[row_count][marker] == 3:\n",
    "            if M1data.iloc[row_count][marker] == 2 or M1data.iloc[row_count][marker] == 3:\n",
    "                if M2data.iloc[row_count][marker] == 2 or M1data.iloc[row_count][marker] == 3:\n",
    "                    compare_df.iloc[row_count][marker] = 1 # match\n",
    "                else:\n",
    "                    compare_df.iloc[row_count][marker] = 0 # Not a match\n",
    "            \n",
    "compare_df = compare_df.drop(index=0)\n",
    "\n",
    "cmap_dict = {0: '#DFCAB0', 1: '#F5EBDD'}\n",
    "cmap_compare = ListedColormap([cmap_dict[i] for i in range(2)])\n",
    "\n",
    "\n",
    "compare_map = sns.heatmap(compare_df, cmap = cmap_compare, square = False, \n",
    "                    linewidth=0.1, cbar_kws={\"shrink\": 1}) \n",
    " \n",
    "# Manually specifying discrete legend labelling \n",
    "colorbar = ax.collections[0].colorbar\n",
    "colorbar.set_ticks([1, 2])\n",
    "colorbar.set_ticklabels(['Not a match', 'Match'])\n",
    "\n",
    "compare_map.set_yticklabels([\"M + HGF\", \"M + VEGF\", \"M + TGFb\", \"M + IGF1\", \"M + GMCSF\", \"M + IL6\", \"M + IL4\", \"M + IL13\"], rotation=0)\n",
    "compare_map.set_ylabel(\"Stimuli\", fontsize=20, font=\"Serif\")\n",
    "compare_map.set_xlabel(\"Phenotype-Node\", fontsize=20, font=\"Serif\")\n",
    "plt.show()"
   ]
  },
  {
   "cell_type": "markdown",
   "id": "9dbb2bd5",
   "metadata": {},
   "source": [
    "**Figure 5. Common differential expression**\n",
    "<br> Expression = 1 signifies a common differential expression across all expression dataframes (M0, M1 and M2) in the same exact cell (Match). Expression = 0 means no match across all dataframes (Not a match)."
   ]
  },
  {
   "cell_type": "markdown",
   "id": "a37a5909",
   "metadata": {},
   "source": [
    "## Comparing THP-1 expression data from experiments with model simulations"
   ]
  },
  {
   "cell_type": "markdown",
   "id": "998a0799",
   "metadata": {},
   "source": [
    "Because THP-1 cells are a very representative system to use when studying macrophage behaviour and polarization, it is important to check whether the model is able to represent the behaviour of the cell line and make accurate predictions. \n",
    "Therefore, a stable state analysis using the same inputs as identified in literature using THP-1 cells, was set to to run a simulation. The resulting heatmap of the stable states will then be compared to the experimental results presented in literature. "
   ]
  },
  {
   "cell_type": "code",
   "execution_count": null,
   "id": "57dd68c9",
   "metadata": {},
   "outputs": [],
   "source": [
    "# Creating initial state conditions\n",
    "#inpM1 = ('IFNg == 1 & LPS == 1 & VEGF_e == 0 & PlGF == 0 & TNFa == 0 & GMCSF == 0 & IL6_e == 0 & IL1b_e == 0 & IC == 0 & PGE2_e == 0 & IL4 == 0 & IL13 == 0 & IL10_e == 0 & HGF_e == 0 & TGFb_e == 0 & IGF1_e == 0')\n",
    "\n",
    "inp_IFNg_LPS = ('IFNg == 1 & LPS == 1 & VEGF_e == 0 & TNFa_e == 0 & GMCSF == 0 & IL6_e == 0 & IL1b_e == 0 & IC == 0 & PGE2_e == 0 & IL4 == 0 & IL13 == 0 & IL10_e == 0 & HGF_e == 0 & TGFb_e == 0 & IGF1_e == 0')\n",
    "inp_IFNg = ('IFNg == 1 & LPS == 0 & VEGF_e == 0 & TNFa_e == 0 & GMCSF == 0 & IL6_e == 0 & IL1b_e == 0 & IC == 0 & PGE2_e == 0 & IL4 == 0 & IL13 == 0 & IL10_e == 0 & HGF_e == 0 & TGFb_e == 0 & IGF1_e == 0')\n",
    "inp_LPS = ('IFNg == 0 & LPS == 1 & VEGF_e == 0 & TNFa_e == 0 & GMCSF == 0 & IL6_e == 0 & IL1b_e == 0 & IC == 0 & PGE2_e == 0 & IL4 == 0 & IL13 == 0 & IL10_e == 0 & HGF_e == 0 & TGFb_e == 0 & IGF1_e == 0')\n",
    "inp_IL4 = ('IFNg == 0 & LPS == 0 & VEGF_e == 0 & TNFa_e == 0 & GMCSF == 0 & IL6_e == 0 & IL1b_e == 0 & IC == 0 & PGE2_e == 0 & IL4 == 1 & IL13 == 0 & IL10_e == 0 & HGF_e == 0 & TGFb_e == 0 & IGF1_e == 0')\n",
    "inp_IL10 = ('IFNg == 0 & LPS == 0 & VEGF_e == 0 & TNFa_e == 0 & GMCSF == 0 & IL6_e == 0 & IL1b_e == 0 & IC == 0 & PGE2_e == 0 & IL4 == 0 & IL13 == 0 & IL10_e == 1 & HGF_e == 0 & TGFb_e == 0 & IGF1_e == 0')\n",
    "inp_IL4_IL13 = ('IFNg == 0 & LPS == 0 & VEGF_e == 0 & TNFa_e == 0 & GMCSF == 0 & IL6_e == 0 & IL1b_e == 0 & IC == 0 & PGE2_e == 0 & IL4 == 1 & IL13 == 1 & IL10_e == 0 & HGF_e == 0 & TGFb_e == 0 & IGF1_e == 0')\n",
    "\n",
    "# Preparing indexes for desired\n",
    "THP1_markers = ['STAT1', 'CCL2', 'CCR7', 'IL1b', 'IRF5', 'RelA', 'TNFa','iNOS', 'IL6', 'SOCS3', 'TGFb', 'CCL18', 'CCL22', 'IRF4', 'JMJD3', 'CD206', 'PPARG', 'SOCS1', 'IL10', 'CCL17', 'Arg1', 'COX2']\n",
    "\n",
    "THP1_phen_arrays = [['M1','M1','M1','M1','M1','M1','M1','M1','M1 & M2','M1 & M2','M2','M2','M2','M2','M2','M2','M2','M2','M2','M2','M2','LM'], THP1_markers]"
   ]
  },
  {
   "cell_type": "code",
   "execution_count": null,
   "id": "ec2a908f",
   "metadata": {},
   "outputs": [],
   "source": [
    "# Setting initial states with various stimulis (inputs).\n",
    "# Selecting only the output nodes.\n",
    "# Creating a multilevel indexs with the phenotypes.\n",
    "\n",
    "IFNg_LPS = fix_df.query(inp_IFNg_LPS)\n",
    "IFNg_LPS = IFNg_LPS[THP1_markers]\n",
    "IFNg_LPS.columns = pd.MultiIndex.from_arrays(THP1_phen_arrays, names= ['Phenotype', 'Node'])\n",
    "\n",
    "IFNg = fix_df.query(inp_IFNg)\n",
    "IFNg = IFNg[THP1_markers]\n",
    "IFNg.columns = pd.MultiIndex.from_arrays(THP1_phen_arrays, names= ['Phenotype', 'Node'])\n",
    "\n",
    "LPS = fix_df.query(inp_LPS)\n",
    "LPS = LPS[THP1_markers]\n",
    "LPS.columns = pd.MultiIndex.from_arrays(THP1_phen_arrays, names= ['Phenotype', 'Node'])\n",
    "\n",
    "IL4 = fix_df.query(inp_IL4)\n",
    "IL4 = IL4[THP1_markers]\n",
    "IL4.columns = pd.MultiIndex.from_arrays(THP1_phen_arrays, names= ['Phenotype', 'Node'])\n",
    "\n",
    "IL10 = fix_df.query(inp_IL10)\n",
    "IL10 = IL10[THP1_markers]\n",
    "IL10.columns = pd.MultiIndex.from_arrays(THP1_phen_arrays, names= ['Phenotype', 'Node'])\n",
    "\n",
    "IL4_IL13 = fix_df.query(inp_IL4_IL13)\n",
    "IL4_IL13 = IL4_IL13[THP1_markers]\n",
    "IL4_IL13.columns = pd.MultiIndex.from_arrays(THP1_phen_arrays, names= ['Phenotype', 'Node'])\n",
    "\n",
    "frames_THP1 = [IFNg_LPS, IFNg, LPS, IL4, IL10, IL4_IL13]\n",
    "\n",
    "# Concatenating all the filtered dataframes into one large dataframe\n",
    "THP1results = pd.concat(frames_THP1, keys=[\"IFNg + LPS\", \"IFNg\", \"LPS\", \"IL4\", \"IL10\", \"IL4 + IL13\"]).copy()\n",
    "# print(results['level_0'].values)\n",
    "\n",
    "# Resetting the index to move the stimuli names to columns\n",
    "THP1results.reset_index(inplace=True)\n",
    "\n",
    "# Lexsorting the MultiIndex\n",
    "THP1results = THP1results.sort_index(axis=1)\n",
    "\n",
    "fig, ax = plt.subplots(figsize=(25, 6)) \n",
    "\n",
    "# Filter the DataFrame to keep only the columns representing the data for the heatmap\n",
    "THP1_data = THP1results.drop(['level_0','level_1'], axis=1)\n",
    "\n",
    "# Defining discrete color values\n",
    "cmap_dict = {0: '#DFCAB0', 1: '#F5EBDD'}\n",
    "cmap_thp1 = ListedColormap([cmap_dict[i] for i in range(2)])\n",
    "\n",
    "THP1_map = sns.heatmap(THP1_data, cmap = cmap_thp1, square = False, \n",
    "                    linewidth=0.1, cbar_kws={\"shrink\": 1}) \n",
    " \n",
    "# Manually specifying discrete legend labelling \n",
    "colorbar = ax.collections[0].colorbar\n",
    "colorbar.set_ticks([0.25,0.75])\n",
    "colorbar.set_ticklabels(['Low expression', 'High expression'])\n",
    "\n",
    "\n",
    "# Setting y-axis labels using the 'level_0' column which contains the stimuli names\n",
    "THP1_map.set_yticklabels(THP1results['level_0'].values, rotation=0)\n",
    "\n",
    "THP1_map.set_ylabel(\"Stimuli\", fontsize=20, font=\"Serif\" )\n",
    "THP1_map.set_xlabel(\"Phenotype-Node\", fontsize=20, font=\"Serif\")\n",
    "\n",
    "plt.show()\n"
   ]
  },
  {
   "cell_type": "code",
   "execution_count": null,
   "id": "1953720a",
   "metadata": {},
   "outputs": [],
   "source": []
  }
 ],
 "metadata": {
  "kernelspec": {
   "display_name": "Python 3 (ipykernel)",
   "language": "python",
   "name": "python3"
  },
  "language_info": {
   "codemirror_mode": {
    "name": "ipython",
    "version": 3
   },
   "file_extension": ".py",
   "mimetype": "text/x-python",
   "name": "python",
   "nbconvert_exporter": "python",
   "pygments_lexer": "ipython3",
   "version": "3.9.16"
  }
 },
 "nbformat": 4,
 "nbformat_minor": 5
}
